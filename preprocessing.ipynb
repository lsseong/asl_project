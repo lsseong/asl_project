{
 "cells": [
  {
   "cell_type": "markdown",
   "metadata": {},
   "source": [
    "## Energy forecast - Preprocessing\n",
    "### This notebook is used to generate features and labels file for different sequence and forecast length"
   ]
  },
  {
   "cell_type": "markdown",
   "metadata": {},
   "source": [
    "## Import Libraries"
   ]
  },
  {
   "cell_type": "code",
   "execution_count": 14,
   "metadata": {},
   "outputs": [],
   "source": [
    "import pandas as pd\n",
    "import numpy as np\n",
    "from datetime import datetime\n"
   ]
  },
  {
   "cell_type": "markdown",
   "metadata": {},
   "source": [
    "## Read file into dataframe"
   ]
  },
  {
   "cell_type": "code",
   "execution_count": 3,
   "metadata": {},
   "outputs": [],
   "source": [
    "def read_file(filename):\n",
    "    to_datetime = lambda d: datetime.strptime(d, '%d/%m/%Y %H:%M')\n",
    "    _df = pd.read_csv(filename, delimiter=\";\", date_parser=to_datetime, parse_dates=['date (UTC)'], index_col=0)\n",
    "    return _df"
   ]
  },
  {
   "cell_type": "markdown",
   "metadata": {},
   "source": [
    "## Extract features and labels array from dataframe\n",
    "This function will produce two matrices, features and labels."
   ]
  },
  {
   "cell_type": "code",
   "execution_count": 7,
   "metadata": {},
   "outputs": [],
   "source": [
    "def shape_data(df, seq_length, n_forward, sliding_step):\n",
    "    \"\"\"\n",
    "    slide over time series [N] to produce training features and labels\n",
    "    :param df: time series as dataframe\n",
    "    :param seq_length:\n",
    "    :param n_forward:\n",
    "    :param sliding_step:\n",
    "    :return:\n",
    "        features: [BATCH_SIZE, SEQ_LENGTH]\n",
    "        labels: [BATCH_SIZE, N_FORWARD]\n",
    "    \"\"\"\n",
    "    _data = df.to_numpy().squeeze()\n",
    "\n",
    "    batch_size = int((len(_data) - (seq_length+n_forward)) / sliding_step + 1)\n",
    "\n",
    "    _features = np.zeros((batch_size, seq_length))\n",
    "    _label = np.zeros((batch_size, n_forward))\n",
    "\n",
    "    for i in range(0, batch_size):\n",
    "        begin_index = i * sliding_step\n",
    "        stop_index = begin_index + seq_length\n",
    "        label_stop_index = stop_index + n_forward\n",
    "        _features[i] = _data[begin_index:stop_index]\n",
    "        _label[i] = _data[stop_index:label_stop_index]\n",
    "\n",
    "    return _features, _label\n"
   ]
  },
  {
   "cell_type": "markdown",
   "metadata": {},
   "source": [
    "## Final wrapper function to save the features and labels files"
   ]
  },
  {
   "cell_type": "code",
   "execution_count": 12,
   "metadata": {},
   "outputs": [],
   "source": [
    "from sklearn.model_selection import train_test_split\n",
    "\n",
    "def process(filename, seq_length, n_forward):\n",
    "    df = read_file(filename)\n",
    "    features, labels = shape_data(df, seq_length, n_forward, sliding_step=1)\n",
    "\n",
    "    features_train, features_eval, labels_train, labels_eval = train_test_split(features,\n",
    "                                                                                labels,\n",
    "                                                                                test_size=0.3,\n",
    "                                                                                random_state=42)\n",
    "\n",
    "    # combined features and label as one file\n",
    "    np.savetxt(\"data/train_{}_{}.csv\".format(seq_length, n_forward),\n",
    "               np.concatenate((features_train, labels_train), axis=1), delimiter=\",\", fmt=\"%.2f\")\n",
    "\n",
    "    np.savetxt(\"data/eval_{}_{}.csv\".format(seq_length, n_forward),\n",
    "               np.concatenate((features_eval, labels_eval), axis=1), delimiter=\",\", fmt=\"%.2f\")"
   ]
  },
  {
   "cell_type": "markdown",
   "metadata": {},
   "source": [
    "## Run to produce features and labels files"
   ]
  },
  {
   "cell_type": "code",
   "execution_count": 11,
   "metadata": {},
   "outputs": [],
   "source": [
    "process('price.csv', seq_length=8, n_forward=5)"
   ]
  },
  {
   "cell_type": "code",
   "execution_count": null,
   "metadata": {},
   "outputs": [],
   "source": []
  }
 ],
 "metadata": {
  "kernelspec": {
   "display_name": "Python 3",
   "language": "python",
   "name": "python3"
  },
  "language_info": {
   "codemirror_mode": {
    "name": "ipython",
    "version": 3
   },
   "file_extension": ".py",
   "mimetype": "text/x-python",
   "name": "python",
   "nbconvert_exporter": "python",
   "pygments_lexer": "ipython3",
   "version": "3.5.3"
  }
 },
 "nbformat": 4,
 "nbformat_minor": 2
}
