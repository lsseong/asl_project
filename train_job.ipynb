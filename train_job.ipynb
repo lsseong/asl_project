{
 "cells": [
  {
   "cell_type": "markdown",
   "metadata": {},
   "source": [
    "## Paramters"
   ]
  },
  {
   "cell_type": "code",
   "execution_count": 63,
   "metadata": {},
   "outputs": [],
   "source": [
    "# change these to try this notebook out\n",
    "BUCKET = 'qwiklabs-gcp-5678415b1c0fd33e'\n",
    "PROJECT = 'qwiklabs-gcp-5678415b1c0fd33e'\n",
    "REGION = 'us-central1'\n",
    "SEQ_LEN = 240\n",
    "N_FORWARD = 120"
   ]
  },
  {
   "cell_type": "code",
   "execution_count": 64,
   "metadata": {},
   "outputs": [],
   "source": [
    "import os\n",
    "os.environ['BUCKET'] = BUCKET\n",
    "os.environ['PROJECT'] = PROJECT\n",
    "os.environ['REGION'] = REGION\n",
    "os.environ['SEQ_LEN'] = str(SEQ_LEN)\n",
    "os.environ['N_FORWARD'] = str(N_FORWARD)\n",
    "os.environ['TFVERSION'] = '1.13'"
   ]
  },
  {
   "cell_type": "markdown",
   "metadata": {},
   "source": [
    "## Train model locally\n",
    "Make sure the code works as intended"
   ]
  },
  {
   "cell_type": "code",
   "execution_count": 57,
   "metadata": {},
   "outputs": [
    {
     "name": "stdout",
     "output_type": "stream",
     "text": [
      "\n",
      "WARNING: The TensorFlow contrib module will not be included in TensorFlow 2.0.\n",
      "For more information, please see:\n",
      "  * https://github.com/tensorflow/community/blob/master/rfcs/20180907-contrib-sunset.md\n",
      "  * https://github.com/tensorflow/addons\n",
      "If you depend on functionality not listed there, please file an issue.\n",
      "\n"
     ]
    },
    {
     "name": "stderr",
     "output_type": "stream",
     "text": [
      "WARNING: The `gcloud ml-engine` commands have been renamed and will soon be removed. Please use `gcloud ai-platform` instead.\n",
      "WARNING:tensorflow:From /home/jupyter/.local/lib/python2.7/site-packages/tensorflow/python/framework/op_def_library.py:263: colocate_with (from tensorflow.python.framework.ops) is deprecated and will be removed in a future version.\n",
      "Instructions for updating:\n",
      "Colocations handled automatically by placer.\n",
      "WARNING:tensorflow:From model/model.py:19: dense (from tensorflow.python.layers.core) is deprecated and will be removed in a future version.\n",
      "Instructions for updating:\n",
      "Use keras.layers.dense instead.\n",
      "WARNING:tensorflow:From /home/jupyter/.local/lib/python2.7/site-packages/tensorflow/python/ops/losses/losses_impl.py:667: to_float (from tensorflow.python.ops.math_ops) is deprecated and will be removed in a future version.\n",
      "Instructions for updating:\n",
      "Use tf.cast instead.\n",
      "2019-07-17 02:23:28.820018: I tensorflow/core/platform/cpu_feature_guard.cc:141] Your CPU supports instructions that this TensorFlow binary was not compiled to use: AVX2 FMA\n",
      "2019-07-17 02:23:28.825416: I tensorflow/core/platform/profile_utils/cpu_utils.cc:94] CPU Frequency: 2200000000 Hz\n",
      "2019-07-17 02:23:28.825767: I tensorflow/compiler/xla/service/service.cc:150] XLA service 0x562d9129f970 executing computations on platform Host. Devices:\n",
      "2019-07-17 02:23:28.825800: I tensorflow/compiler/xla/service/service.cc:158]   StreamExecutor device (0): <undefined>, <undefined>\n",
      "WARNING:tensorflow:From /home/jupyter/.local/lib/python2.7/site-packages/tensorflow/python/training/saver.py:1266: checkpoint_exists (from tensorflow.python.training.checkpoint_management) is deprecated and will be removed in a future version.\n",
      "Instructions for updating:\n",
      "Use standard file APIs to check for files with this prefix.\n",
      "WARNING:tensorflow:From /home/jupyter/.local/lib/python2.7/site-packages/tensorflow/python/saved_model/signature_def_utils_impl.py:205: build_tensor_info (from tensorflow.python.saved_model.utils_impl) is deprecated and will be removed in a future version.\n",
      "Instructions for updating:\n",
      "This function will only be available through the v1 compatibility library as tf.compat.v1.saved_model.utils.build_tensor_info or tf.compat.v1.saved_model.build_tensor_info.\n"
     ]
    }
   ],
   "source": [
    "%%bash\n",
    "OUTDIR=$(pwd)/trained_${SEQ_LEN}_${N_FORWARD}/linear\n",
    "rm -rf $OUTDIR\n",
    "\n",
    "gcloud ml-engine local train \\\n",
    "   --module-name=model.task \\\n",
    "   --package-path=${PWD}/model \\\n",
    "   -- \\\n",
    "   --model=linear \\\n",
    "   --train_data_path=\"data/train_${SEQ_LEN}_${N_FORWARD}.csv\" \\\n",
    "   --eval_data_path=\"data/eval_${SEQ_LEN}_${N_FORWARD}.csv\"  \\\n",
    "   --output_dir=${OUTDIR} \\\n",
    "   --seq_length=$SEQ_LEN \\\n",
    "   --n_forward=$N_FORWARD \\\n",
    "   --train_steps=200 \\\n",
    "   --eval_delay_secs=1 \\\n",
    "   --min_eval_frequency=60"
   ]
  },
  {
   "cell_type": "markdown",
   "metadata": {},
   "source": [
    "## Cloud ML Engine\n",
    "Now to train on Cloud ML Engine with more steps and models.\n",
    "Copy data to bucket first."
   ]
  },
  {
   "cell_type": "code",
   "execution_count": 58,
   "metadata": {},
   "outputs": [
    {
     "name": "stderr",
     "output_type": "stream",
     "text": [
      "Removing gs://qwiklabs-gcp-5678415b1c0fd33e/energy/eval_8_5.csv#1563292186599406...\n",
      "Removing gs://qwiklabs-gcp-5678415b1c0fd33e/energy/eval_3_1.csv#1563292186568671...\n",
      "Removing gs://qwiklabs-gcp-5678415b1c0fd33e/energy/train_3_1.csv#1563292186619545...\n",
      "Removing gs://qwiklabs-gcp-5678415b1c0fd33e/energy/train_8_5.csv#1563292186676943...\n",
      "/ [4/4 objects] 100% Done                                                       \n",
      "Operation completed over 4 objects.                                              \n",
      "Copying file://data/eval_240_120.csv [Content-Type=text/csv]...\n",
      "Copying file://data/eval_8_5.csv [Content-Type=text/csv]...\n",
      "Copying file://data/train_240_120.csv [Content-Type=text/csv]...\n",
      "Copying file://data/train_360_120.csv [Content-Type=text/csv]...\n",
      "Copying file://data/train_3_1.csv [Content-Type=text/csv]...\n",
      "Copying file://data/train_8_5.csv [Content-Type=text/csv]...\n",
      "Copying file://data/eval_3_1.csv [Content-Type=text/csv]...\n",
      "Copying file://data/eval_360_120.csv [Content-Type=text/csv]...\n",
      "- [8/8 files][ 40.9 MiB/ 40.9 MiB] 100% Done                                    \n",
      "Operation completed over 8 objects/40.9 MiB.                                     \n"
     ]
    }
   ],
   "source": [
    "%%bash\n",
    "gsutil -m rm -rf gs://${BUCKET}/energy/*\n",
    "gsutil -m cp data/*.csv gs://${BUCKET}/energy"
   ]
  },
  {
   "cell_type": "code",
   "execution_count": 65,
   "metadata": {},
   "outputs": [
    {
     "name": "stdout",
     "output_type": "stream",
     "text": [
      "jobId: energy_linear_240_120_190717_023956\n",
      "state: QUEUED\n",
      "jobId: energy_dnn_240_120_190717_023959\n",
      "state: QUEUED\n",
      "jobId: energy_cnn_240_120_190717_024003\n",
      "state: QUEUED\n",
      "jobId: energy_rnn_240_120_190717_024006\n",
      "state: QUEUED\n",
      "jobId: energy_lstm_240_120_190717_024009\n",
      "state: QUEUED\n"
     ]
    },
    {
     "name": "stderr",
     "output_type": "stream",
     "text": [
      "CommandException: 1 files/objects could not be removed.\n",
      "WARNING: The `gcloud ml-engine` commands have been renamed and will soon be removed. Please use `gcloud ai-platform` instead.\n",
      "Job [energy_linear_240_120_190717_023956] submitted successfully.\n",
      "Your job is still active. You may view the status of your job with the command\n",
      "\n",
      "  $ gcloud ai-platform jobs describe energy_linear_240_120_190717_023956\n",
      "\n",
      "or continue streaming the logs with the command\n",
      "\n",
      "  $ gcloud ai-platform jobs stream-logs energy_linear_240_120_190717_023956\n",
      "CommandException: 1 files/objects could not be removed.\n",
      "WARNING: The `gcloud ml-engine` commands have been renamed and will soon be removed. Please use `gcloud ai-platform` instead.\n",
      "Job [energy_dnn_240_120_190717_023959] submitted successfully.\n",
      "Your job is still active. You may view the status of your job with the command\n",
      "\n",
      "  $ gcloud ai-platform jobs describe energy_dnn_240_120_190717_023959\n",
      "\n",
      "or continue streaming the logs with the command\n",
      "\n",
      "  $ gcloud ai-platform jobs stream-logs energy_dnn_240_120_190717_023959\n",
      "CommandException: 1 files/objects could not be removed.\n",
      "WARNING: The `gcloud ml-engine` commands have been renamed and will soon be removed. Please use `gcloud ai-platform` instead.\n",
      "Job [energy_cnn_240_120_190717_024003] submitted successfully.\n",
      "Your job is still active. You may view the status of your job with the command\n",
      "\n",
      "  $ gcloud ai-platform jobs describe energy_cnn_240_120_190717_024003\n",
      "\n",
      "or continue streaming the logs with the command\n",
      "\n",
      "  $ gcloud ai-platform jobs stream-logs energy_cnn_240_120_190717_024003\n",
      "CommandException: 1 files/objects could not be removed.\n",
      "WARNING: The `gcloud ml-engine` commands have been renamed and will soon be removed. Please use `gcloud ai-platform` instead.\n",
      "Job [energy_rnn_240_120_190717_024006] submitted successfully.\n",
      "Your job is still active. You may view the status of your job with the command\n",
      "\n",
      "  $ gcloud ai-platform jobs describe energy_rnn_240_120_190717_024006\n",
      "\n",
      "or continue streaming the logs with the command\n",
      "\n",
      "  $ gcloud ai-platform jobs stream-logs energy_rnn_240_120_190717_024006\n",
      "CommandException: 1 files/objects could not be removed.\n",
      "WARNING: The `gcloud ml-engine` commands have been renamed and will soon be removed. Please use `gcloud ai-platform` instead.\n",
      "Job [energy_lstm_240_120_190717_024009] submitted successfully.\n",
      "Your job is still active. You may view the status of your job with the command\n",
      "\n",
      "  $ gcloud ai-platform jobs describe energy_lstm_240_120_190717_024009\n",
      "\n",
      "or continue streaming the logs with the command\n",
      "\n",
      "  $ gcloud ai-platform jobs stream-logs energy_lstm_240_120_190717_024009\n"
     ]
    }
   ],
   "source": [
    "%%bash\n",
    "for MODEL in linear dnn cnn rnn lstm; do\n",
    "  OUTDIR=gs://${BUCKET}/project_energy/trained_${SEQ_LEN}_${N_FORWARD}/${MODEL}\n",
    "  JOBNAME=energy_${MODEL}_${SEQ_LEN}_${N_FORWARD}_$(date -u +%y%m%d_%H%M%S)\n",
    "  gsutil -m rm -rf $OUTDIR\n",
    "  gcloud ml-engine jobs submit training $JOBNAME \\\n",
    "     --region=$REGION \\\n",
    "     --module-name=model.task \\\n",
    "     --package-path=${PWD}/model \\\n",
    "     --job-dir=$OUTDIR \\\n",
    "     --scale-tier=BASIC \\\n",
    "     --runtime-version=$TFVERSION \\\n",
    "     -- \\\n",
    "     --model=$MODEL \\\n",
    "     --train_data_path=\"gs://${BUCKET}/energy/train_${SEQ_LEN}_${N_FORWARD}.csv\" \\\n",
    "     --eval_data_path=\"gs://${BUCKET}/energy/eval_${SEQ_LEN}_${N_FORWARD}.csv\"  \\\n",
    "     --output_dir=${OUTDIR} \\\n",
    "     --seq_length=$SEQ_LEN \\\n",
    "     --n_forward=$N_FORWARD \\\n",
    "     --train_steps=1000 \\\n",
    "     --eval_delay_secs=1 \\\n",
    "     --min_eval_frequency=100\n",
    "done"
   ]
  },
  {
   "cell_type": "code",
   "execution_count": null,
   "metadata": {},
   "outputs": [],
   "source": []
  }
 ],
 "metadata": {
  "kernelspec": {
   "display_name": "Python 3",
   "language": "python",
   "name": "python3"
  },
  "language_info": {
   "codemirror_mode": {
    "name": "ipython",
    "version": 3
   },
   "file_extension": ".py",
   "mimetype": "text/x-python",
   "name": "python",
   "nbconvert_exporter": "python",
   "pygments_lexer": "ipython3",
   "version": "3.5.3"
  }
 },
 "nbformat": 4,
 "nbformat_minor": 2
}
