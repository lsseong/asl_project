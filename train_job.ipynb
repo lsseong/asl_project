{
 "cells": [
  {
   "cell_type": "markdown",
   "metadata": {},
   "source": [
    "## Paramters"
   ]
  },
  {
   "cell_type": "code",
   "execution_count": 50,
   "metadata": {},
   "outputs": [],
   "source": [
    "# change these to try this notebook out\n",
    "BUCKET = 'qwiklabs-gcp-5678415b1c0fd33e'\n",
    "PROJECT = 'qwiklabs-gcp-5678415b1c0fd33e'\n",
    "REGION = 'us-central1'\n",
    "SEQ_LEN = 8\n",
    "N_FORWARD = 5"
   ]
  },
  {
   "cell_type": "code",
   "execution_count": 51,
   "metadata": {},
   "outputs": [],
   "source": [
    "import os\n",
    "os.environ['BUCKET'] = BUCKET\n",
    "os.environ['PROJECT'] = PROJECT\n",
    "os.environ['REGION'] = REGION\n",
    "os.environ['SEQ_LEN'] = str(SEQ_LEN)\n",
    "os.environ['N_FORWARD'] = str(N_FORWARD)\n",
    "os.environ['TFVERSION'] = '1.13'"
   ]
  },
  {
   "cell_type": "markdown",
   "metadata": {},
   "source": [
    "## Train model locally\n",
    "Make sure the code works as intended"
   ]
  },
  {
   "cell_type": "code",
   "execution_count": 52,
   "metadata": {},
   "outputs": [
    {
     "name": "stdout",
     "output_type": "stream",
     "text": [
      "\n",
      "WARNING: The TensorFlow contrib module will not be included in TensorFlow 2.0.\n",
      "For more information, please see:\n",
      "  * https://github.com/tensorflow/community/blob/master/rfcs/20180907-contrib-sunset.md\n",
      "  * https://github.com/tensorflow/addons\n",
      "If you depend on functionality not listed there, please file an issue.\n",
      "\n"
     ]
    },
    {
     "name": "stderr",
     "output_type": "stream",
     "text": [
      "WARNING: The `gcloud ml-engine` commands have been renamed and will soon be removed. Please use `gcloud ai-platform` instead.\n",
      "WARNING:tensorflow:From /home/jupyter/.local/lib/python2.7/site-packages/tensorflow/python/framework/op_def_library.py:263: colocate_with (from tensorflow.python.framework.ops) is deprecated and will be removed in a future version.\n",
      "Instructions for updating:\n",
      "Colocations handled automatically by placer.\n",
      "WARNING:tensorflow:From model/model.py:19: dense (from tensorflow.python.layers.core) is deprecated and will be removed in a future version.\n",
      "Instructions for updating:\n",
      "Use keras.layers.dense instead.\n",
      "WARNING:tensorflow:From /home/jupyter/.local/lib/python2.7/site-packages/tensorflow/python/ops/losses/losses_impl.py:667: to_float (from tensorflow.python.ops.math_ops) is deprecated and will be removed in a future version.\n",
      "Instructions for updating:\n",
      "Use tf.cast instead.\n",
      "2019-07-16 17:44:29.583367: I tensorflow/core/platform/cpu_feature_guard.cc:141] Your CPU supports instructions that this TensorFlow binary was not compiled to use: AVX2 FMA\n",
      "2019-07-16 17:44:29.588344: I tensorflow/core/platform/profile_utils/cpu_utils.cc:94] CPU Frequency: 2200000000 Hz\n",
      "2019-07-16 17:44:29.588649: I tensorflow/compiler/xla/service/service.cc:150] XLA service 0x55b6d1a7e1b0 executing computations on platform Host. Devices:\n",
      "2019-07-16 17:44:29.588684: I tensorflow/compiler/xla/service/service.cc:158]   StreamExecutor device (0): <undefined>, <undefined>\n",
      "WARNING:tensorflow:From /home/jupyter/.local/lib/python2.7/site-packages/tensorflow/python/training/saver.py:1266: checkpoint_exists (from tensorflow.python.training.checkpoint_management) is deprecated and will be removed in a future version.\n",
      "Instructions for updating:\n",
      "Use standard file APIs to check for files with this prefix.\n",
      "WARNING:tensorflow:From /home/jupyter/.local/lib/python2.7/site-packages/tensorflow/python/saved_model/signature_def_utils_impl.py:205: build_tensor_info (from tensorflow.python.saved_model.utils_impl) is deprecated and will be removed in a future version.\n",
      "Instructions for updating:\n",
      "This function will only be available through the v1 compatibility library as tf.compat.v1.saved_model.utils.build_tensor_info or tf.compat.v1.saved_model.build_tensor_info.\n"
     ]
    }
   ],
   "source": [
    "%%bash\n",
    "OUTDIR=$(pwd)/trained/linear\n",
    "rm -rf $OUTDIR\n",
    "\n",
    "gcloud ml-engine local train \\\n",
    "   --module-name=model.task \\\n",
    "   --package-path=${PWD}/model \\\n",
    "   -- \\\n",
    "   --model=linear \\\n",
    "   --train_data_path=\"data/train_${SEQ_LEN}_${N_FORWARD}.csv\" \\\n",
    "   --eval_data_path=\"data/eval_${SEQ_LEN}_${N_FORWARD}.csv\"  \\\n",
    "   --output_dir=${OUTDIR} \\\n",
    "   --seq_length=$SEQ_LEN \\\n",
    "   --n_forward=$N_FORWARD \\\n",
    "   --train_steps=200 \\\n",
    "   --eval_delay_secs=1 \\\n",
    "   --min_eval_frequency=60"
   ]
  },
  {
   "cell_type": "markdown",
   "metadata": {},
   "source": [
    "## Cloud ML Engine\n",
    "Now to train on Cloud ML Engine with more steps and models.\n",
    "Copy data to bucket first."
   ]
  },
  {
   "cell_type": "code",
   "execution_count": 16,
   "metadata": {},
   "outputs": [
    {
     "name": "stderr",
     "output_type": "stream",
     "text": [
      "CommandException: 1 files/objects could not be removed.\n",
      "Copying file://data/eval_8_5.csv [Content-Type=text/csv]...\n",
      "Copying file://data/train_3_1.csv [Content-Type=text/csv]...\n",
      "Copying file://data/eval_3_1.csv [Content-Type=text/csv]...\n",
      "Copying file://data/train_8_5.csv [Content-Type=text/csv]...\n",
      "/ [4/4 files][870.8 KiB/870.8 KiB] 100% Done                                    \n",
      "Operation completed over 4 objects/870.8 KiB.                                    \n"
     ]
    }
   ],
   "source": [
    "%%bash\n",
    "gsutil -m rm -rf gs://${BUCKET}/energy/*\n",
    "gsutil -m cp data/*.csv gs://${BUCKET}/energy"
   ]
  },
  {
   "cell_type": "code",
   "execution_count": 53,
   "metadata": {},
   "outputs": [
    {
     "name": "stdout",
     "output_type": "stream",
     "text": [
      "jobId: energy_linear_190716_174511\n",
      "state: QUEUED\n",
      "jobId: energy_dnn_190716_174514\n",
      "state: QUEUED\n",
      "jobId: energy_cnn_190716_174518\n",
      "state: QUEUED\n",
      "jobId: energy_rnn_190716_174521\n",
      "state: QUEUED\n",
      "jobId: energy_lstm_190716_174525\n",
      "state: QUEUED\n"
     ]
    },
    {
     "name": "stderr",
     "output_type": "stream",
     "text": [
      "Removing gs://qwiklabs-gcp-5678415b1c0fd33e/project_energy/linear/packages/524f4b6241ed0ae19859c238716598eb722304e71f05b09cdf5d5d51a8bc7d75/model-0.0.0.tar.gz#1563299006713489...\n",
      "/ [1/1 objects] 100% Done                                                       \n",
      "Operation completed over 1 objects.                                              \n",
      "WARNING: The `gcloud ml-engine` commands have been renamed and will soon be removed. Please use `gcloud ai-platform` instead.\n",
      "Job [energy_linear_190716_174511] submitted successfully.\n",
      "Your job is still active. You may view the status of your job with the command\n",
      "\n",
      "  $ gcloud ai-platform jobs describe energy_linear_190716_174511\n",
      "\n",
      "or continue streaming the logs with the command\n",
      "\n",
      "  $ gcloud ai-platform jobs stream-logs energy_linear_190716_174511\n",
      "Removing gs://qwiklabs-gcp-5678415b1c0fd33e/project_energy/dnn/packages/864f99d3f3b02e207910f748f3ec2c493a13b23594514207b63a3d51ef60f7e3/model-0.0.0.tar.gz#1563299010392589...\n",
      "/ [1/1 objects] 100% Done                                                       \n",
      "Operation completed over 1 objects.                                              \n",
      "WARNING: The `gcloud ml-engine` commands have been renamed and will soon be removed. Please use `gcloud ai-platform` instead.\n",
      "Job [energy_dnn_190716_174514] submitted successfully.\n",
      "Your job is still active. You may view the status of your job with the command\n",
      "\n",
      "  $ gcloud ai-platform jobs describe energy_dnn_190716_174514\n",
      "\n",
      "or continue streaming the logs with the command\n",
      "\n",
      "  $ gcloud ai-platform jobs stream-logs energy_dnn_190716_174514\n",
      "Removing gs://qwiklabs-gcp-5678415b1c0fd33e/project_energy/cnn/packages/5880a5104bc6e7da34178047bd869f6a9137749f3b931fb023545588dec6a940/model-0.0.0.tar.gz#1563299013867834...\n",
      "/ [1/1 objects] 100% Done                                                       \n",
      "Operation completed over 1 objects.                                              \n",
      "WARNING: The `gcloud ml-engine` commands have been renamed and will soon be removed. Please use `gcloud ai-platform` instead.\n",
      "Job [energy_cnn_190716_174518] submitted successfully.\n",
      "Your job is still active. You may view the status of your job with the command\n",
      "\n",
      "  $ gcloud ai-platform jobs describe energy_cnn_190716_174518\n",
      "\n",
      "or continue streaming the logs with the command\n",
      "\n",
      "  $ gcloud ai-platform jobs stream-logs energy_cnn_190716_174518\n",
      "Removing gs://qwiklabs-gcp-5678415b1c0fd33e/project_energy/rnn/packages/4aa9ab326e717c8ec30d027c0c8eeb45e7919db0f7e76d7de41aee2a8f28960d/model-0.0.0.tar.gz#1563299017631421...\n",
      "/ [1/1 objects] 100% Done                                                       \n",
      "Operation completed over 1 objects.                                              \n",
      "WARNING: The `gcloud ml-engine` commands have been renamed and will soon be removed. Please use `gcloud ai-platform` instead.\n",
      "Job [energy_rnn_190716_174521] submitted successfully.\n",
      "Your job is still active. You may view the status of your job with the command\n",
      "\n",
      "  $ gcloud ai-platform jobs describe energy_rnn_190716_174521\n",
      "\n",
      "or continue streaming the logs with the command\n",
      "\n",
      "  $ gcloud ai-platform jobs stream-logs energy_rnn_190716_174521\n",
      "Removing gs://qwiklabs-gcp-5678415b1c0fd33e/project_energy/lstm/packages/7cc88f43fe44d2aa3ab96594f61d1ba86d2ffba8976ee0842dd18ebb1fc4bf76/model-0.0.0.tar.gz#1563292261179510...\n",
      "/ [1/1 objects] 100% Done                                                       \n",
      "Operation completed over 1 objects.                                              \n",
      "WARNING: The `gcloud ml-engine` commands have been renamed and will soon be removed. Please use `gcloud ai-platform` instead.\n",
      "Job [energy_lstm_190716_174525] submitted successfully.\n",
      "Your job is still active. You may view the status of your job with the command\n",
      "\n",
      "  $ gcloud ai-platform jobs describe energy_lstm_190716_174525\n",
      "\n",
      "or continue streaming the logs with the command\n",
      "\n",
      "  $ gcloud ai-platform jobs stream-logs energy_lstm_190716_174525\n"
     ]
    }
   ],
   "source": [
    "%%bash\n",
    "for MODEL in linear dnn cnn rnn lstm; do\n",
    "  OUTDIR=gs://${BUCKET}/project_energy/${MODEL}\n",
    "  JOBNAME=energy_${MODEL}_$(date -u +%y%m%d_%H%M%S)\n",
    "  gsutil -m rm -rf $OUTDIR\n",
    "  gcloud ml-engine jobs submit training $JOBNAME \\\n",
    "     --region=$REGION \\\n",
    "     --module-name=model.task \\\n",
    "     --package-path=${PWD}/model \\\n",
    "     --job-dir=$OUTDIR \\\n",
    "     --scale-tier=BASIC \\\n",
    "     --runtime-version=$TFVERSION \\\n",
    "     -- \\\n",
    "     --model=$MODEL \\\n",
    "     --train_data_path=\"gs://${BUCKET}/energy/train_${SEQ_LEN}_${N_FORWARD}.csv\" \\\n",
    "     --eval_data_path=\"gs://${BUCKET}/energy/eval_${SEQ_LEN}_${N_FORWARD}.csv\"  \\\n",
    "     --output_dir=${OUTDIR} \\\n",
    "     --seq_length=$SEQ_LEN \\\n",
    "     --n_forward=$N_FORWARD \\\n",
    "     --train_steps=5000 \\\n",
    "     --eval_delay_secs=1 \\\n",
    "     --min_eval_frequency=100\n",
    "done"
   ]
  },
  {
   "cell_type": "code",
   "execution_count": null,
   "metadata": {},
   "outputs": [],
   "source": []
  }
 ],
 "metadata": {
  "kernelspec": {
   "display_name": "Python 3",
   "language": "python",
   "name": "python3"
  },
  "language_info": {
   "codemirror_mode": {
    "name": "ipython",
    "version": 3
   },
   "file_extension": ".py",
   "mimetype": "text/x-python",
   "name": "python",
   "nbconvert_exporter": "python",
   "pygments_lexer": "ipython3",
   "version": "3.5.3"
  }
 },
 "nbformat": 4,
 "nbformat_minor": 2
}
