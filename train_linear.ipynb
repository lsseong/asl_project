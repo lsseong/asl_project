{
 "cells": [
  {
   "cell_type": "markdown",
   "metadata": {},
   "source": [
    "## Energy forecast - Train a simple linear model\n",
    "We train a simple linear model by using 8 hours of prices to predict the movement in next 5 hours."
   ]
  },
  {
   "cell_type": "code",
   "execution_count": 8,
   "metadata": {},
   "outputs": [],
   "source": [
    "seq_length = 8\n",
    "n_forward = 5\n",
    "my_model = \"linear\""
   ]
  },
  {
   "cell_type": "markdown",
   "metadata": {},
   "source": [
    "## Import libraries"
   ]
  },
  {
   "cell_type": "code",
   "execution_count": 2,
   "metadata": {},
   "outputs": [],
   "source": [
    "import tensorflow as tf\n",
    "from model import model"
   ]
  },
  {
   "cell_type": "markdown",
   "metadata": {},
   "source": [
    "## Verify read_dataset method to read in training data"
   ]
  },
  {
   "cell_type": "code",
   "execution_count": 3,
   "metadata": {},
   "outputs": [
    {
     "name": "stdout",
     "output_type": "stream",
     "text": [
      "try_out_input_function: features shape = [[69.1  69.48 68.98 67.59 66.96 68.16 68.98 64.03]]\n",
      "try_out_input_function: labels shape = [[64.1  52.54 50.25 49.5  48.5 ]]\n"
     ]
    }
   ],
   "source": [
    "TIME_SERIES_INPUT = \"prices\"\n",
    "\n",
    "with tf.Session() as sess:\n",
    "    fn = model.read_dataset(filename=\"data/train_{}_{}.csv\".format(seq_length, n_forward),\n",
    "                            mode=tf.estimator.ModeKeys.TRAIN,\n",
    "                            seq_length=seq_length,\n",
    "                            n_forward=n_forward,\n",
    "                            batch_size=1)\n",
    "\n",
    "    batch_features, batch_labels = fn()\n",
    "    features, labels = sess.run([batch_features, batch_labels])\n",
    "    print(\"try_out_input_function: features shape = {}\".format(features[TIME_SERIES_INPUT]))\n",
    "    print(\"try_out_input_function: labels shape = {}\".format(labels))"
   ]
  },
  {
   "cell_type": "markdown",
   "metadata": {},
   "source": [
    "## Setup parameters"
   ]
  },
  {
   "cell_type": "code",
   "execution_count": 18,
   "metadata": {},
   "outputs": [],
   "source": [
    "out_dir_str = \"trained/{}\".format(my_model)\n",
    "\n",
    "hparams = {}\n",
    "hparams['model'] = my_model\n",
    "hparams['train_data_path'] = \"data/train_{}_{}.csv\".format(seq_length, n_forward)\n",
    "hparams['eval_data_path'] = \"data/eval_{}_{}.csv\".format(seq_length, n_forward)\n",
    "hparams['seq_length'] = seq_length\n",
    "hparams['n_forward'] = n_forward\n",
    "hparams['learning_rate'] = 0.2\n",
    "hparams['train_steps'] = 100\n",
    "hparams['batch_size'] = 512\n",
    "hparams['eval_delay_secs'] = 1\n",
    "hparams['min_eval_frequency'] = 60"
   ]
  },
  {
   "cell_type": "markdown",
   "metadata": {},
   "source": [
    "## Remove output folder so we can re-train the model"
   ]
  },
  {
   "cell_type": "code",
   "execution_count": 19,
   "metadata": {},
   "outputs": [],
   "source": [
    "%%bash\n",
    "OUTDIR=trained/linear\n",
    "rm -rf $OUTDIR"
   ]
  },
  {
   "cell_type": "markdown",
   "metadata": {},
   "source": [
    "## Train a linear model"
   ]
  },
  {
   "cell_type": "code",
   "execution_count": 20,
   "metadata": {},
   "outputs": [
    {
     "name": "stdout",
     "output_type": "stream",
     "text": [
      "INFO:tensorflow:Using config: {'_task_type': 'worker', '_experimental_distribute': None, '_is_chief': True, '_cluster_spec': <tensorflow.python.training.server_lib.ClusterSpec object at 0x7f7e846c79e8>, '_task_id': 0, '_protocol': None, '_save_checkpoints_steps': None, '_save_summary_steps': 100, '_num_ps_replicas': 0, '_service': None, '_num_worker_replicas': 1, '_tf_random_seed': None, '_global_id_in_cluster': 0, '_keep_checkpoint_max': 5, '_train_distribute': None, '_evaluation_master': '', '_save_checkpoints_secs': 60, '_log_step_count_steps': 100, '_device_fn': None, '_eval_distribute': None, '_session_config': allow_soft_placement: true\n",
      "graph_options {\n",
      "  rewrite_options {\n",
      "    meta_optimizer_iterations: ONE\n",
      "  }\n",
      "}\n",
      ", '_model_dir': 'trained/linear', '_keep_checkpoint_every_n_hours': 10000, '_master': ''}\n",
      "INFO:tensorflow:Not using Distribute Coordinator.\n",
      "INFO:tensorflow:Running training and evaluation locally (non-distributed).\n",
      "INFO:tensorflow:Start train and evaluate loop. The evaluate will happen after every checkpoint. Checkpoint frequency is determined based on RunConfig arguments: save_checkpoints_steps None or save_checkpoints_secs 60.\n",
      "INFO:tensorflow:Calling model_fn.\n",
      "INFO:tensorflow:Done calling model_fn.\n",
      "INFO:tensorflow:Create CheckpointSaverHook.\n",
      "INFO:tensorflow:Graph was finalized.\n",
      "INFO:tensorflow:Running local_init_op.\n",
      "INFO:tensorflow:Done running local_init_op.\n",
      "INFO:tensorflow:Saving checkpoints for 0 into trained/linear/model.ckpt.\n",
      "INFO:tensorflow:loss = 9082.919, step = 1\n",
      "INFO:tensorflow:Saving checkpoints for 100 into trained/linear/model.ckpt.\n",
      "INFO:tensorflow:Calling model_fn.\n",
      "INFO:tensorflow:Done calling model_fn.\n",
      "INFO:tensorflow:Starting evaluation at 2019-07-16T06:09:31Z\n",
      "INFO:tensorflow:Graph was finalized.\n",
      "INFO:tensorflow:Restoring parameters from trained/linear/model.ckpt-100\n",
      "INFO:tensorflow:Running local_init_op.\n",
      "INFO:tensorflow:Done running local_init_op.\n",
      "INFO:tensorflow:Finished evaluation at 2019-07-16-06:09:31\n",
      "INFO:tensorflow:Saving dict for global step 100: MAE = 6.489088, RMSE = 8.519833, global_step = 100, loss = 72.91253\n",
      "INFO:tensorflow:Saving 'checkpoint_path' summary for global step 100: trained/linear/model.ckpt-100\n",
      "INFO:tensorflow:Calling model_fn.\n",
      "INFO:tensorflow:Done calling model_fn.\n",
      "INFO:tensorflow:Signatures INCLUDED in export for Regress: None\n",
      "INFO:tensorflow:Signatures INCLUDED in export for Train: None\n",
      "INFO:tensorflow:Signatures INCLUDED in export for Classify: None\n",
      "INFO:tensorflow:Signatures INCLUDED in export for Eval: None\n",
      "INFO:tensorflow:Signatures INCLUDED in export for Predict: ['predictions', 'serving_default']\n",
      "INFO:tensorflow:Restoring parameters from trained/linear/model.ckpt-100\n",
      "INFO:tensorflow:Assets added to graph.\n",
      "INFO:tensorflow:No assets to write.\n",
      "INFO:tensorflow:SavedModel written to: trained/linear/export/exporter/temp-b'1563257371'/saved_model.pb\n",
      "INFO:tensorflow:Loss for final step: 67.70235.\n"
     ]
    }
   ],
   "source": [
    "model.train_and_evaluate(out_dir_str, hparams)"
   ]
  },
  {
   "cell_type": "markdown",
   "metadata": {},
   "source": [
    "## Load trained model for prediction\n",
    "\n",
    "We use the following 8 data points to test the prediction from trained model:\n",
    "\n",
    "| Dates | Prices |\n",
    "|-------|:------:|\n",
    "|31/12/2015 11:00| 54 |\n",
    "|31/12/2015 12:00| 53.3 |\n",
    "|31/12/2015 13:00| 52.11 |\n",
    "|31/12/2015 14:00| 51.2 |\n",
    "|31/12/2015 15:00| 52.86 |\n",
    "|31/12/2015 16:00| 56.7 |\n",
    "|31/12/2015 17:00| 62.1 |\n",
    "|31/12/2015 18:00| 63.44 |\n",
    "\n",
    "Acutal subsequent prices to compare with predictions: \n",
    "\n",
    "| Dates | Prices |\n",
    "|-------|:------:|\n",
    "|31/12/2015 19:00| 63.29 |\n",
    "|31/12/2015 20:00| 62.1 |\n",
    "|31/12/2015 21:00| 56.7 |\n",
    "|31/12/2015 22:00| 50.95 |\n",
    "|31/12/2015 23:00| 48.55 |\n"
   ]
  },
  {
   "cell_type": "code",
   "execution_count": 21,
   "metadata": {},
   "outputs": [
    {
     "name": "stdout",
     "output_type": "stream",
     "text": [
      "WARNING:tensorflow:From /home/jupyter/.local/lib/python3.5/site-packages/tensorflow/contrib/predictor/saved_model_predictor.py:153: load (from tensorflow.python.saved_model.loader_impl) is deprecated and will be removed in a future version.\n",
      "Instructions for updating:\n",
      "This function will only be available through the v1 compatibility library as tf.compat.v1.saved_model.loader.load or tf.compat.v1.saved_model.load. There will be a new function for importing SavedModels in Tensorflow 2.0.\n",
      "INFO:tensorflow:Restoring parameters from trained/linear/export/exporter/1563257371/variables/variables\n"
     ]
    }
   ],
   "source": [
    "SAVEDMODEL = \"trained/linear/export/exporter/\" + \"1563257371\"\n",
    "predict_fn = tf.contrib.predictor.from_saved_model(SAVEDMODEL)"
   ]
  },
  {
   "cell_type": "code",
   "execution_count": 23,
   "metadata": {},
   "outputs": [
    {
     "name": "stdout",
     "output_type": "stream",
     "text": [
      "[61.854984 62.461502 58.107456 62.900494 55.41546 ]\n"
     ]
    }
   ],
   "source": [
    "import numpy as np\n",
    "import pandas as pd\n",
    "import seaborn as sns\n",
    "\n",
    "Yin = np.array([[54, 53.3, 52.11, 51.2, 52.86, 56.7, 62.1, 63.44]])\n",
    "r = predict_fn({TIME_SERIES_INPUT: Yin})\n",
    "predict = r['predicted'].squeeze()\n",
    "print(predict)"
   ]
  },
  {
   "cell_type": "code",
   "execution_count": 24,
   "metadata": {},
   "outputs": [
    {
     "data": {
      "text/plain": [
       "<matplotlib.axes._subplots.AxesSubplot at 0x7f7f28be9b00>"
      ]
     },
     "execution_count": 24,
     "metadata": {},
     "output_type": "execute_result"
    },
    {
     "data": {
      "image/png": "[encoded data removed]",
      "text/plain": [
       "<Figure size 432x288 with 1 Axes>"
      ]
     },
     "metadata": {
      "needs_background": "light"
     },
     "output_type": "display_data"
    }
   ],
   "source": [
    "actual = np.array([63.29, 62.1, 56.7, 50.95, 48.55])\n",
    "data = pd.DataFrame({'Actual':actual , 'Predict':predict}) \n",
    "sns.lineplot(data=data)"
   ]
  },
  {
   "cell_type": "code",
   "execution_count": null,
   "metadata": {},
   "outputs": [],
   "source": []
  }
 ],
 "metadata": {
  "kernelspec": {
   "display_name": "Python 3",
   "language": "python",
   "name": "python3"
  },
  "language_info": {
   "codemirror_mode": {
    "name": "ipython",
    "version": 3
   },
   "file_extension": ".py",
   "mimetype": "text/x-python",
   "name": "python",
   "nbconvert_exporter": "python",
   "pygments_lexer": "ipython3",
   "version": "3.5.3"
  }
 },
 "nbformat": 4,
 "nbformat_minor": 2
}
