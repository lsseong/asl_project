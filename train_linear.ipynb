{
 "cells": [
  {
   "cell_type": "markdown",
   "metadata": {},
   "source": [
    "## Energy forecast - Train simple models with energy prices only\n",
    "We first train a simple linear model by using 8 hours of prices to predict the movement in next 5 hours.\n",
    "\n",
    "This notebook illustrates several models:\n",
    "<ol>\n",
    "<li> Linear\n",
    "<li> DNN\n",
    "<li> CNN \n",
    "<li> RNN\n",
    "<li> LSTM\n",
    "</ol>\n"
   ]
  },
  {
   "cell_type": "code",
   "execution_count": 1,
   "metadata": {},
   "outputs": [],
   "source": [
    "import tensorflow as tf\n",
    "from model import model\n",
    "\n",
    "seq_length = 8\n",
    "n_forward = 5\n",
    "my_model = \"linear\"\n",
    "TIME_SERIES_INPUT = \"prices\"\n",
    "\n",
    "out_dir_str = \"trained/{}\".format(my_model)\n",
    "\n",
    "hparams = {}\n",
    "hparams['model'] = my_model\n",
    "hparams['train_data_path'] = \"data/train_{}_{}.csv\".format(seq_length, n_forward)\n",
    "hparams['eval_data_path'] = \"data/eval_{}_{}.csv\".format(seq_length, n_forward)\n",
    "hparams['seq_length'] = seq_length\n",
    "hparams['n_forward'] = n_forward\n",
    "hparams['learning_rate'] = 0.2\n",
    "hparams['train_steps'] = 2000\n",
    "hparams['batch_size'] = 512\n",
    "hparams['eval_delay_secs'] = 1\n",
    "hparams['min_eval_frequency'] = 60"
   ]
  },
  {
   "cell_type": "markdown",
   "metadata": {},
   "source": [
    "## Verify read_dataset method to read in training data"
   ]
  },
  {
   "cell_type": "code",
   "execution_count": 38,
   "metadata": {},
   "outputs": [
    {
     "name": "stdout",
     "output_type": "stream",
     "text": [
      "try_out_input_function: features shape = [[32.4  37.6  33.   33.85 33.35 39.3  36.22 32.4 ]]\n",
      "try_out_input_function: labels shape = [[30.6  30.4  30.75 33.85 31.6 ]]\n"
     ]
    }
   ],
   "source": [
    "with tf.Session() as sess:\n",
    "    fn = model.read_dataset(filename=\"data/train_{}_{}.csv\".format(seq_length, n_forward),\n",
    "                            mode=tf.estimator.ModeKeys.TRAIN,\n",
    "                            seq_length=seq_length,\n",
    "                            n_forward=n_forward,\n",
    "                            batch_size=1)\n",
    "\n",
    "    batch_features, batch_labels = fn()\n",
    "    features, labels = sess.run([batch_features, batch_labels])\n",
    "    print(\"try_out_input_function: features shape = {}\".format(features[TIME_SERIES_INPUT]))\n",
    "    print(\"try_out_input_function: labels shape = {}\".format(labels))"
   ]
  },
  {
   "cell_type": "markdown",
   "metadata": {},
   "source": [
    "## Train a linear model"
   ]
  },
  {
   "cell_type": "code",
   "execution_count": null,
   "metadata": {},
   "outputs": [],
   "source": [
    "%%bash\n",
    "OUTDIR=trained/linear\n",
    "rm -rf $OUTDIR"
   ]
  },
  {
   "cell_type": "code",
   "execution_count": 41,
   "metadata": {},
   "outputs": [
    {
     "name": "stdout",
     "output_type": "stream",
     "text": [
      "INFO:tensorflow:Using config: {'_task_type': 'worker', '_experimental_distribute': None, '_is_chief': True, '_cluster_spec': <tensorflow.python.training.server_lib.ClusterSpec object at 0x7f7e846c7048>, '_task_id': 0, '_protocol': None, '_save_checkpoints_steps': None, '_save_summary_steps': 100, '_num_ps_replicas': 0, '_service': None, '_num_worker_replicas': 1, '_tf_random_seed': None, '_global_id_in_cluster': 0, '_keep_checkpoint_max': 5, '_train_distribute': None, '_evaluation_master': '', '_save_checkpoints_secs': 60, '_log_step_count_steps': 100, '_device_fn': None, '_eval_distribute': None, '_session_config': allow_soft_placement: true\n",
      "graph_options {\n",
      "  rewrite_options {\n",
      "    meta_optimizer_iterations: ONE\n",
      "  }\n",
      "}\n",
      ", '_model_dir': 'trained/linear', '_keep_checkpoint_every_n_hours': 10000, '_master': ''}\n",
      "INFO:tensorflow:Not using Distribute Coordinator.\n",
      "INFO:tensorflow:Running training and evaluation locally (non-distributed).\n",
      "INFO:tensorflow:Start train and evaluate loop. The evaluate will happen after every checkpoint. Checkpoint frequency is determined based on RunConfig arguments: save_checkpoints_steps None or save_checkpoints_secs 60.\n",
      "INFO:tensorflow:Calling model_fn.\n",
      "INFO:tensorflow:Done calling model_fn.\n",
      "INFO:tensorflow:Create CheckpointSaverHook.\n",
      "INFO:tensorflow:Graph was finalized.\n",
      "INFO:tensorflow:Running local_init_op.\n",
      "INFO:tensorflow:Done running local_init_op.\n",
      "INFO:tensorflow:Saving checkpoints for 0 into trained/linear/model.ckpt.\n",
      "INFO:tensorflow:loss = 6426.357, step = 1\n",
      "INFO:tensorflow:global_step/sec: 26.3126\n",
      "INFO:tensorflow:loss = 65.69415, step = 101 (3.802 sec)\n",
      "INFO:tensorflow:global_step/sec: 26.5421\n",
      "INFO:tensorflow:loss = 61.80781, step = 201 (3.768 sec)\n",
      "INFO:tensorflow:global_step/sec: 26.9726\n",
      "INFO:tensorflow:loss = 61.719788, step = 301 (3.707 sec)\n",
      "INFO:tensorflow:global_step/sec: 26.5025\n",
      "INFO:tensorflow:loss = 59.84923, step = 401 (3.773 sec)\n",
      "INFO:tensorflow:global_step/sec: 26.8156\n",
      "INFO:tensorflow:loss = 57.157875, step = 501 (3.732 sec)\n",
      "INFO:tensorflow:global_step/sec: 27.3054\n",
      "INFO:tensorflow:loss = 55.436565, step = 601 (3.659 sec)\n",
      "INFO:tensorflow:global_step/sec: 26.8954\n",
      "INFO:tensorflow:loss = 51.884468, step = 701 (3.719 sec)\n",
      "INFO:tensorflow:global_step/sec: 27.0772\n",
      "INFO:tensorflow:loss = 53.34416, step = 801 (3.693 sec)\n",
      "INFO:tensorflow:global_step/sec: 27.0303\n",
      "INFO:tensorflow:loss = 56.06476, step = 901 (3.699 sec)\n",
      "INFO:tensorflow:global_step/sec: 27.3539\n",
      "INFO:tensorflow:loss = 52.35615, step = 1001 (3.655 sec)\n",
      "INFO:tensorflow:global_step/sec: 27.6017\n",
      "INFO:tensorflow:loss = 52.171288, step = 1101 (3.623 sec)\n",
      "INFO:tensorflow:global_step/sec: 27.3551\n",
      "INFO:tensorflow:loss = 58.619366, step = 1201 (3.659 sec)\n",
      "INFO:tensorflow:global_step/sec: 27.3563\n",
      "INFO:tensorflow:loss = 49.404896, step = 1301 (3.652 sec)\n",
      "INFO:tensorflow:global_step/sec: 27.3011\n",
      "INFO:tensorflow:loss = 65.13371, step = 1401 (3.663 sec)\n",
      "INFO:tensorflow:global_step/sec: 27.635\n",
      "INFO:tensorflow:loss = 59.408653, step = 1501 (3.619 sec)\n",
      "INFO:tensorflow:global_step/sec: 27.3642\n",
      "INFO:tensorflow:loss = 56.530994, step = 1601 (3.654 sec)\n",
      "INFO:tensorflow:Saving checkpoints for 1615 into trained/linear/model.ckpt.\n",
      "INFO:tensorflow:Calling model_fn.\n",
      "INFO:tensorflow:Done calling model_fn.\n",
      "INFO:tensorflow:Starting evaluation at 2019-07-16T06:26:38Z\n",
      "INFO:tensorflow:Graph was finalized.\n",
      "INFO:tensorflow:Restoring parameters from trained/linear/model.ckpt-1615\n",
      "INFO:tensorflow:Running local_init_op.\n",
      "INFO:tensorflow:Done running local_init_op.\n",
      "INFO:tensorflow:Finished evaluation at 2019-07-16-06:26:38\n",
      "INFO:tensorflow:Saving dict for global step 1615: MAE = 5.657595, RMSE = 7.6905637, global_step = 1615, loss = 59.45027\n",
      "INFO:tensorflow:Saving 'checkpoint_path' summary for global step 1615: trained/linear/model.ckpt-1615\n",
      "INFO:tensorflow:Calling model_fn.\n",
      "INFO:tensorflow:Done calling model_fn.\n",
      "INFO:tensorflow:Signatures INCLUDED in export for Regress: None\n",
      "INFO:tensorflow:Signatures INCLUDED in export for Train: None\n",
      "INFO:tensorflow:Signatures INCLUDED in export for Classify: None\n",
      "INFO:tensorflow:Signatures INCLUDED in export for Eval: None\n",
      "INFO:tensorflow:Signatures INCLUDED in export for Predict: ['predictions', 'serving_default']\n",
      "INFO:tensorflow:Restoring parameters from trained/linear/model.ckpt-1615\n",
      "INFO:tensorflow:Assets added to graph.\n",
      "INFO:tensorflow:No assets to write.\n",
      "INFO:tensorflow:SavedModel written to: trained/linear/export/exporter/temp-b'1563258398'/saved_model.pb\n",
      "INFO:tensorflow:global_step/sec: 21.1818\n",
      "INFO:tensorflow:loss = 50.55585, step = 1701 (4.721 sec)\n",
      "INFO:tensorflow:global_step/sec: 27.7343\n",
      "INFO:tensorflow:loss = 52.228737, step = 1801 (3.606 sec)\n",
      "INFO:tensorflow:global_step/sec: 27.0838\n",
      "INFO:tensorflow:loss = 60.775597, step = 1901 (3.693 sec)\n",
      "INFO:tensorflow:Saving checkpoints for 2000 into trained/linear/model.ckpt.\n",
      "INFO:tensorflow:Skip the current checkpoint eval due to throttle secs (60 secs).\n",
      "INFO:tensorflow:Calling model_fn.\n",
      "INFO:tensorflow:Done calling model_fn.\n",
      "INFO:tensorflow:Starting evaluation at 2019-07-16T06:26:53Z\n",
      "INFO:tensorflow:Graph was finalized.\n",
      "INFO:tensorflow:Restoring parameters from trained/linear/model.ckpt-2000\n",
      "INFO:tensorflow:Running local_init_op.\n",
      "INFO:tensorflow:Done running local_init_op.\n",
      "INFO:tensorflow:Finished evaluation at 2019-07-16-06:26:53\n",
      "INFO:tensorflow:Saving dict for global step 2000: MAE = 5.7208023, RMSE = 7.611329, global_step = 2000, loss = 58.09907\n",
      "INFO:tensorflow:Saving 'checkpoint_path' summary for global step 2000: trained/linear/model.ckpt-2000\n",
      "INFO:tensorflow:Calling model_fn.\n",
      "INFO:tensorflow:Done calling model_fn.\n",
      "INFO:tensorflow:Signatures INCLUDED in export for Regress: None\n",
      "INFO:tensorflow:Signatures INCLUDED in export for Train: None\n",
      "INFO:tensorflow:Signatures INCLUDED in export for Classify: None\n",
      "INFO:tensorflow:Signatures INCLUDED in export for Eval: None\n",
      "INFO:tensorflow:Signatures INCLUDED in export for Predict: ['predictions', 'serving_default']\n",
      "INFO:tensorflow:Restoring parameters from trained/linear/model.ckpt-2000\n",
      "INFO:tensorflow:Assets added to graph.\n",
      "INFO:tensorflow:No assets to write.\n",
      "INFO:tensorflow:SavedModel written to: trained/linear/export/exporter/temp-b'1563258413'/saved_model.pb\n",
      "INFO:tensorflow:Loss for final step: 58.141956.\n"
     ]
    }
   ],
   "source": [
    "model.train_and_evaluate(out_dir_str, hparams)"
   ]
  },
  {
   "cell_type": "markdown",
   "metadata": {},
   "source": [
    "## Load trained model for prediction\n",
    "\n",
    "We use the following 8 data points to test the prediction from trained model:\n",
    "\n",
    "| Dates | Prices |\n",
    "|-------|:------:|\n",
    "|31/12/2015 11:00| 54 |\n",
    "|31/12/2015 12:00| 53.3 |\n",
    "|31/12/2015 13:00| 52.11 |\n",
    "|31/12/2015 14:00| 51.2 |\n",
    "|31/12/2015 15:00| 52.86 |\n",
    "|31/12/2015 16:00| 56.7 |\n",
    "|31/12/2015 17:00| 62.1 |\n",
    "|31/12/2015 18:00| 63.44 |\n",
    "\n",
    "Acutal subsequent prices to compare with predictions: \n",
    "\n",
    "| Dates | Prices |\n",
    "|-------|:------:|\n",
    "|31/12/2015 19:00| 63.29 |\n",
    "|31/12/2015 20:00| 62.1 |\n",
    "|31/12/2015 21:00| 56.7 |\n",
    "|31/12/2015 22:00| 50.95 |\n",
    "|31/12/2015 23:00| 48.55 |\n"
   ]
  },
  {
   "cell_type": "markdown",
   "metadata": {},
   "source": [
    "### Define a function to do prediction"
   ]
  },
  {
   "cell_type": "code",
   "execution_count": 5,
   "metadata": {},
   "outputs": [],
   "source": [
    "import numpy as np\n",
    "\n",
    "def get_prediction(predict_fn):\n",
    "    Yin = np.array([[54, 53.3, 52.11, 51.2, 52.86, 56.7, 62.1, 63.44]])\n",
    "    r = predict_fn({TIME_SERIES_INPUT: Yin})\n",
    "    return r['predicted'].squeeze()\n",
    "\n",
    "actual = np.array([63.29, 62.1, 56.7, 50.95, 48.55])"
   ]
  },
  {
   "cell_type": "markdown",
   "metadata": {},
   "source": [
    "## Load trained linear model"
   ]
  },
  {
   "cell_type": "code",
   "execution_count": 6,
   "metadata": {},
   "outputs": [
    {
     "name": "stdout",
     "output_type": "stream",
     "text": [
      "WARNING:tensorflow:From /home/jupyter/.local/lib/python3.5/site-packages/tensorflow/contrib/predictor/saved_model_predictor.py:153: load (from tensorflow.python.saved_model.loader_impl) is deprecated and will be removed in a future version.\n",
      "Instructions for updating:\n",
      "This function will only be available through the v1 compatibility library as tf.compat.v1.saved_model.loader.load or tf.compat.v1.saved_model.load. There will be a new function for importing SavedModels in Tensorflow 2.0.\n",
      "INFO:tensorflow:Restoring parameters from trained/linear/export/exporter/1563258413/variables/variables\n",
      "[63.946102 58.40284  60.23728  62.690014 57.09897 ]\n"
     ]
    }
   ],
   "source": [
    "import numpy as np\n",
    "import pandas as pd\n",
    "import seaborn as sns\n",
    "\n",
    "SAVEDMODEL = \"trained/linear/export/exporter/\" + \"1563258413\"\n",
    "predict_linear = get_prediction(tf.contrib.predictor.from_saved_model(SAVEDMODEL))\n",
    "print(predict_linear)"
   ]
  },
  {
   "cell_type": "code",
   "execution_count": 7,
   "metadata": {},
   "outputs": [
    {
     "data": {
      "text/plain": [
       "<matplotlib.axes._subplots.AxesSubplot at 0x7f9a2c0ab390>"
      ]
     },
     "execution_count": 7,
     "metadata": {},
     "output_type": "execute_result"
    },
    {
     "data": {
      "image/png": "[encoded data removed]",
      "text/plain": [
       "<Figure size 432x288 with 1 Axes>"
      ]
     },
     "metadata": {
      "needs_background": "light"
     },
     "output_type": "display_data"
    }
   ],
   "source": [
    "data = pd.DataFrame({'Actual':actual , 'Predict':predict_linear}) \n",
    "sns.lineplot(data=data)"
   ]
  },
  {
   "cell_type": "markdown",
   "metadata": {},
   "source": [
    "## Train a simple DNN model"
   ]
  },
  {
   "cell_type": "code",
   "execution_count": 13,
   "metadata": {},
   "outputs": [],
   "source": [
    "# setup parameters\n",
    "my_model = \"dnn\"\n",
    "out_dir_str = \"trained/{}\".format(my_model)\n",
    "hparams['model'] = my_model"
   ]
  },
  {
   "cell_type": "code",
   "execution_count": 14,
   "metadata": {},
   "outputs": [],
   "source": [
    "%%bash\n",
    "OUTDIR=trained/dnn\n",
    "rm -rf $OUTDIR"
   ]
  },
  {
   "cell_type": "code",
   "execution_count": 15,
   "metadata": {},
   "outputs": [
    {
     "name": "stdout",
     "output_type": "stream",
     "text": [
      "INFO:tensorflow:Using config: {'_is_chief': True, '_eval_distribute': None, '_global_id_in_cluster': 0, '_master': '', '_tf_random_seed': None, '_train_distribute': None, '_model_dir': 'trained/dnn', '_evaluation_master': '', '_session_config': allow_soft_placement: true\n",
      "graph_options {\n",
      "  rewrite_options {\n",
      "    meta_optimizer_iterations: ONE\n",
      "  }\n",
      "}\n",
      ", '_task_type': 'worker', '_keep_checkpoint_every_n_hours': 10000, '_save_checkpoints_steps': None, '_protocol': None, '_task_id': 0, '_experimental_distribute': None, '_keep_checkpoint_max': 5, '_save_summary_steps': 100, '_log_step_count_steps': 100, '_service': None, '_num_ps_replicas': 0, '_cluster_spec': <tensorflow.python.training.server_lib.ClusterSpec object at 0x7febe04cccc0>, '_device_fn': None, '_save_checkpoints_secs': 60, '_num_worker_replicas': 1}\n",
      "INFO:tensorflow:Not using Distribute Coordinator.\n",
      "INFO:tensorflow:Running training and evaluation locally (non-distributed).\n",
      "INFO:tensorflow:Start train and evaluate loop. The evaluate will happen after every checkpoint. Checkpoint frequency is determined based on RunConfig arguments: save_checkpoints_steps None or save_checkpoints_secs 60.\n",
      "INFO:tensorflow:Calling model_fn.\n",
      "INFO:tensorflow:Done calling model_fn.\n",
      "INFO:tensorflow:Create CheckpointSaverHook.\n",
      "INFO:tensorflow:Graph was finalized.\n",
      "INFO:tensorflow:Running local_init_op.\n",
      "INFO:tensorflow:Done running local_init_op.\n",
      "INFO:tensorflow:Saving checkpoints for 0 into trained/dnn/model.ckpt.\n",
      "INFO:tensorflow:loss = 5065.8696, step = 1\n",
      "INFO:tensorflow:global_step/sec: 25.9884\n",
      "INFO:tensorflow:loss = 75.93846, step = 101 (3.849 sec)\n",
      "INFO:tensorflow:global_step/sec: 27.0694\n",
      "INFO:tensorflow:loss = 60.747448, step = 201 (3.694 sec)\n",
      "INFO:tensorflow:global_step/sec: 27.4654\n",
      "INFO:tensorflow:loss = 60.268517, step = 301 (3.641 sec)\n",
      "INFO:tensorflow:global_step/sec: 28.0086\n",
      "INFO:tensorflow:loss = 56.69093, step = 401 (3.571 sec)\n",
      "INFO:tensorflow:global_step/sec: 27.4555\n",
      "INFO:tensorflow:loss = 56.96681, step = 501 (3.642 sec)\n",
      "INFO:tensorflow:global_step/sec: 27.9921\n",
      "INFO:tensorflow:loss = 63.103416, step = 601 (3.573 sec)\n",
      "INFO:tensorflow:global_step/sec: 28.0019\n",
      "INFO:tensorflow:loss = 53.533394, step = 701 (3.570 sec)\n",
      "INFO:tensorflow:global_step/sec: 27.8102\n",
      "INFO:tensorflow:loss = 47.41069, step = 801 (3.596 sec)\n",
      "INFO:tensorflow:global_step/sec: 27.7366\n",
      "INFO:tensorflow:loss = 51.89211, step = 901 (3.605 sec)\n",
      "INFO:tensorflow:global_step/sec: 27.6376\n",
      "INFO:tensorflow:loss = 52.403343, step = 1001 (3.618 sec)\n",
      "INFO:tensorflow:global_step/sec: 27.9189\n",
      "INFO:tensorflow:loss = 55.47941, step = 1101 (3.582 sec)\n",
      "INFO:tensorflow:global_step/sec: 27.6276\n",
      "INFO:tensorflow:loss = 53.947655, step = 1201 (3.620 sec)\n",
      "INFO:tensorflow:global_step/sec: 27.5733\n",
      "INFO:tensorflow:loss = 57.696484, step = 1301 (3.629 sec)\n",
      "INFO:tensorflow:global_step/sec: 27.6015\n",
      "INFO:tensorflow:loss = 56.77484, step = 1401 (3.621 sec)\n",
      "INFO:tensorflow:global_step/sec: 27.869\n",
      "INFO:tensorflow:loss = 52.374256, step = 1501 (3.588 sec)\n",
      "INFO:tensorflow:global_step/sec: 28.0703\n",
      "INFO:tensorflow:loss = 57.410645, step = 1601 (3.563 sec)\n",
      "INFO:tensorflow:Saving checkpoints for 1646 into trained/dnn/model.ckpt.\n",
      "INFO:tensorflow:Calling model_fn.\n",
      "INFO:tensorflow:Done calling model_fn.\n",
      "INFO:tensorflow:Starting evaluation at 2019-07-16T07:06:24Z\n",
      "INFO:tensorflow:Graph was finalized.\n",
      "INFO:tensorflow:Restoring parameters from trained/dnn/model.ckpt-1646\n",
      "INFO:tensorflow:Running local_init_op.\n",
      "INFO:tensorflow:Done running local_init_op.\n",
      "INFO:tensorflow:Finished evaluation at 2019-07-16-07:06:25\n",
      "INFO:tensorflow:Saving dict for global step 1646: MAE = 5.475596, RMSE = 7.2280803, global_step = 1646, loss = 52.318897\n",
      "INFO:tensorflow:Saving 'checkpoint_path' summary for global step 1646: trained/dnn/model.ckpt-1646\n",
      "INFO:tensorflow:Calling model_fn.\n",
      "INFO:tensorflow:Done calling model_fn.\n",
      "INFO:tensorflow:Signatures INCLUDED in export for Regress: None\n",
      "INFO:tensorflow:Signatures INCLUDED in export for Train: None\n",
      "INFO:tensorflow:Signatures INCLUDED in export for Predict: ['predictions', 'serving_default']\n",
      "INFO:tensorflow:Signatures INCLUDED in export for Classify: None\n",
      "INFO:tensorflow:Signatures INCLUDED in export for Eval: None\n",
      "INFO:tensorflow:Restoring parameters from trained/dnn/model.ckpt-1646\n",
      "INFO:tensorflow:Assets added to graph.\n",
      "INFO:tensorflow:No assets to write.\n",
      "INFO:tensorflow:SavedModel written to: trained/dnn/export/exporter/temp-b'1563260785'/saved_model.pb\n",
      "INFO:tensorflow:global_step/sec: 21.3796\n",
      "INFO:tensorflow:loss = 57.08111, step = 1701 (4.677 sec)\n",
      "INFO:tensorflow:global_step/sec: 27.9066\n",
      "INFO:tensorflow:loss = 53.96996, step = 1801 (3.583 sec)\n",
      "INFO:tensorflow:global_step/sec: 27.8631\n",
      "INFO:tensorflow:loss = 51.804024, step = 1901 (3.589 sec)\n",
      "INFO:tensorflow:Saving checkpoints for 2000 into trained/dnn/model.ckpt.\n",
      "INFO:tensorflow:Skip the current checkpoint eval due to throttle secs (60 secs).\n",
      "INFO:tensorflow:Calling model_fn.\n",
      "INFO:tensorflow:Done calling model_fn.\n",
      "INFO:tensorflow:Starting evaluation at 2019-07-16T07:06:38Z\n",
      "INFO:tensorflow:Graph was finalized.\n",
      "INFO:tensorflow:Restoring parameters from trained/dnn/model.ckpt-2000\n",
      "INFO:tensorflow:Running local_init_op.\n",
      "INFO:tensorflow:Done running local_init_op.\n",
      "INFO:tensorflow:Finished evaluation at 2019-07-16-07:06:38\n",
      "INFO:tensorflow:Saving dict for global step 2000: MAE = 5.63573, RMSE = 7.3807225, global_step = 2000, loss = 54.631466\n",
      "INFO:tensorflow:Saving 'checkpoint_path' summary for global step 2000: trained/dnn/model.ckpt-2000\n",
      "INFO:tensorflow:Calling model_fn.\n",
      "INFO:tensorflow:Done calling model_fn.\n",
      "INFO:tensorflow:Signatures INCLUDED in export for Regress: None\n",
      "INFO:tensorflow:Signatures INCLUDED in export for Train: None\n",
      "INFO:tensorflow:Signatures INCLUDED in export for Predict: ['predictions', 'serving_default']\n",
      "INFO:tensorflow:Signatures INCLUDED in export for Classify: None\n",
      "INFO:tensorflow:Signatures INCLUDED in export for Eval: None\n",
      "INFO:tensorflow:Restoring parameters from trained/dnn/model.ckpt-2000\n",
      "INFO:tensorflow:Assets added to graph.\n",
      "INFO:tensorflow:No assets to write.\n",
      "INFO:tensorflow:SavedModel written to: trained/dnn/export/exporter/temp-b'1563260798'/saved_model.pb\n",
      "INFO:tensorflow:Loss for final step: 47.28022.\n"
     ]
    }
   ],
   "source": [
    "# train a DNN model\n",
    "model.train_and_evaluate(out_dir_str, hparams)"
   ]
  },
  {
   "cell_type": "markdown",
   "metadata": {},
   "source": [
    "## Load DNN trained model for prediction"
   ]
  },
  {
   "cell_type": "code",
   "execution_count": 8,
   "metadata": {},
   "outputs": [
    {
     "name": "stdout",
     "output_type": "stream",
     "text": [
      "INFO:tensorflow:Restoring parameters from trained/dnn/export/exporter/1563260798/variables/variables\n"
     ]
    },
    {
     "data": {
      "text/plain": [
       "<matplotlib.axes._subplots.AxesSubplot at 0x7f9a0b7522b0>"
      ]
     },
     "execution_count": 8,
     "metadata": {},
     "output_type": "execute_result"
    },
    {
     "data": {
      "image/png": "[encoded data removed]",
      "text/plain": [
       "<Figure size 432x288 with 1 Axes>"
      ]
     },
     "metadata": {
      "needs_background": "light"
     },
     "output_type": "display_data"
    }
   ],
   "source": [
    "SAVEDMODEL = \"trained/dnn/export/exporter/\" + \"1563260798\"\n",
    "predict_dnn = get_prediction(tf.contrib.predictor.from_saved_model(SAVEDMODEL))\n",
    "data = pd.DataFrame({'Actual':actual , 'Predict Linear':predict_linear, 'Predict DNN': predict_dnn}) \n",
    "sns.lineplot(data=data)"
   ]
  },
  {
   "cell_type": "markdown",
   "metadata": {},
   "source": [
    "## Train a simple CNN model"
   ]
  },
  {
   "cell_type": "code",
   "execution_count": 33,
   "metadata": {},
   "outputs": [],
   "source": [
    "# setup parameters\n",
    "my_model = \"cnn\"\n",
    "out_dir_str = \"trained/{}\".format(my_model)\n",
    "hparams['model'] = my_model\n",
    "hparams['learning_rate'] = 0.05"
   ]
  },
  {
   "cell_type": "code",
   "execution_count": 34,
   "metadata": {},
   "outputs": [],
   "source": [
    "%%bash\n",
    "OUTDIR=trained/cnn\n",
    "rm -rf $OUTDIR"
   ]
  },
  {
   "cell_type": "code",
   "execution_count": 35,
   "metadata": {},
   "outputs": [
    {
     "name": "stdout",
     "output_type": "stream",
     "text": [
      "INFO:tensorflow:Using config: {'_is_chief': True, '_eval_distribute': None, '_global_id_in_cluster': 0, '_master': '', '_tf_random_seed': None, '_train_distribute': None, '_model_dir': 'trained/cnn', '_evaluation_master': '', '_session_config': allow_soft_placement: true\n",
      "graph_options {\n",
      "  rewrite_options {\n",
      "    meta_optimizer_iterations: ONE\n",
      "  }\n",
      "}\n",
      ", '_task_type': 'worker', '_keep_checkpoint_every_n_hours': 10000, '_save_checkpoints_steps': None, '_protocol': None, '_task_id': 0, '_experimental_distribute': None, '_keep_checkpoint_max': 5, '_save_summary_steps': 100, '_log_step_count_steps': 100, '_service': None, '_num_ps_replicas': 0, '_cluster_spec': <tensorflow.python.training.server_lib.ClusterSpec object at 0x7febe81f67f0>, '_device_fn': None, '_save_checkpoints_secs': 60, '_num_worker_replicas': 1}\n",
      "INFO:tensorflow:Not using Distribute Coordinator.\n",
      "INFO:tensorflow:Running training and evaluation locally (non-distributed).\n",
      "INFO:tensorflow:Start train and evaluate loop. The evaluate will happen after every checkpoint. Checkpoint frequency is determined based on RunConfig arguments: save_checkpoints_steps None or save_checkpoints_secs 60.\n",
      "INFO:tensorflow:Calling model_fn.\n",
      "INFO:tensorflow:Done calling model_fn.\n",
      "INFO:tensorflow:Create CheckpointSaverHook.\n",
      "INFO:tensorflow:Graph was finalized.\n",
      "INFO:tensorflow:Running local_init_op.\n",
      "INFO:tensorflow:Done running local_init_op.\n",
      "INFO:tensorflow:Saving checkpoints for 0 into trained/cnn/model.ckpt.\n",
      "INFO:tensorflow:loss = 2645.4412, step = 1\n",
      "INFO:tensorflow:global_step/sec: 26.2873\n",
      "INFO:tensorflow:loss = 56.8079, step = 101 (3.806 sec)\n",
      "INFO:tensorflow:global_step/sec: 26.5886\n",
      "INFO:tensorflow:loss = 54.016945, step = 201 (3.761 sec)\n",
      "INFO:tensorflow:global_step/sec: 26.2693\n",
      "INFO:tensorflow:loss = 53.18092, step = 301 (3.807 sec)\n",
      "INFO:tensorflow:global_step/sec: 26.5295\n",
      "INFO:tensorflow:loss = 52.765343, step = 401 (3.769 sec)\n",
      "INFO:tensorflow:global_step/sec: 26.153\n",
      "INFO:tensorflow:loss = 49.098083, step = 501 (3.824 sec)\n",
      "INFO:tensorflow:global_step/sec: 26.5085\n",
      "INFO:tensorflow:loss = 45.844494, step = 601 (3.772 sec)\n",
      "INFO:tensorflow:global_step/sec: 26.26\n",
      "INFO:tensorflow:loss = 49.523113, step = 701 (3.808 sec)\n",
      "INFO:tensorflow:global_step/sec: 25.8513\n",
      "INFO:tensorflow:loss = 51.772717, step = 801 (3.869 sec)\n",
      "INFO:tensorflow:global_step/sec: 26.1773\n",
      "INFO:tensorflow:loss = 46.81151, step = 901 (3.820 sec)\n",
      "INFO:tensorflow:global_step/sec: 25.7143\n",
      "INFO:tensorflow:loss = 50.32586, step = 1001 (3.889 sec)\n",
      "INFO:tensorflow:global_step/sec: 25.7135\n",
      "INFO:tensorflow:loss = 50.693848, step = 1101 (3.889 sec)\n",
      "INFO:tensorflow:global_step/sec: 25.6701\n",
      "INFO:tensorflow:loss = 54.50231, step = 1201 (3.896 sec)\n",
      "INFO:tensorflow:global_step/sec: 25.7076\n",
      "INFO:tensorflow:loss = 66.08329, step = 1301 (3.890 sec)\n",
      "INFO:tensorflow:global_step/sec: 25.7226\n",
      "INFO:tensorflow:loss = 48.735954, step = 1401 (3.888 sec)\n",
      "INFO:tensorflow:global_step/sec: 25.9371\n",
      "INFO:tensorflow:loss = 46.930832, step = 1501 (3.856 sec)\n",
      "INFO:tensorflow:Saving checkpoints for 1553 into trained/cnn/model.ckpt.\n",
      "INFO:tensorflow:Calling model_fn.\n",
      "INFO:tensorflow:Done calling model_fn.\n",
      "INFO:tensorflow:Starting evaluation at 2019-07-16T07:17:20Z\n",
      "INFO:tensorflow:Graph was finalized.\n",
      "INFO:tensorflow:Restoring parameters from trained/cnn/model.ckpt-1553\n",
      "INFO:tensorflow:Running local_init_op.\n",
      "INFO:tensorflow:Done running local_init_op.\n",
      "INFO:tensorflow:Finished evaluation at 2019-07-16-07:17:20\n",
      "INFO:tensorflow:Saving dict for global step 1553: MAE = 5.403405, RMSE = 7.1816583, global_step = 1553, loss = 51.652195\n",
      "INFO:tensorflow:Saving 'checkpoint_path' summary for global step 1553: trained/cnn/model.ckpt-1553\n",
      "INFO:tensorflow:Calling model_fn.\n",
      "INFO:tensorflow:Done calling model_fn.\n",
      "INFO:tensorflow:Signatures INCLUDED in export for Regress: None\n",
      "INFO:tensorflow:Signatures INCLUDED in export for Train: None\n",
      "INFO:tensorflow:Signatures INCLUDED in export for Predict: ['predictions', 'serving_default']\n",
      "INFO:tensorflow:Signatures INCLUDED in export for Classify: None\n",
      "INFO:tensorflow:Signatures INCLUDED in export for Eval: None\n",
      "INFO:tensorflow:Restoring parameters from trained/cnn/model.ckpt-1553\n",
      "INFO:tensorflow:Assets added to graph.\n",
      "INFO:tensorflow:No assets to write.\n",
      "INFO:tensorflow:SavedModel written to: trained/cnn/export/exporter/temp-b'1563261440'/saved_model.pb\n",
      "INFO:tensorflow:global_step/sec: 20.5079\n",
      "INFO:tensorflow:loss = 47.5969, step = 1601 (4.876 sec)\n",
      "INFO:tensorflow:global_step/sec: 25.6178\n",
      "INFO:tensorflow:loss = 57.720238, step = 1701 (3.904 sec)\n",
      "INFO:tensorflow:global_step/sec: 25.6829\n",
      "INFO:tensorflow:loss = 56.687786, step = 1801 (3.893 sec)\n",
      "INFO:tensorflow:global_step/sec: 25.7086\n",
      "INFO:tensorflow:loss = 50.16871, step = 1901 (3.890 sec)\n",
      "INFO:tensorflow:global_step/sec: 25.9057\n",
      "INFO:tensorflow:loss = 47.962685, step = 2001 (3.860 sec)\n",
      "INFO:tensorflow:global_step/sec: 25.7779\n",
      "INFO:tensorflow:loss = 49.17938, step = 2101 (3.884 sec)\n",
      "INFO:tensorflow:global_step/sec: 25.6151\n",
      "INFO:tensorflow:loss = 52.239216, step = 2201 (3.899 sec)\n",
      "INFO:tensorflow:global_step/sec: 25.6999\n",
      "INFO:tensorflow:loss = 50.810516, step = 2301 (3.891 sec)\n",
      "INFO:tensorflow:global_step/sec: 25.7443\n",
      "INFO:tensorflow:loss = 50.83269, step = 2401 (3.884 sec)\n",
      "INFO:tensorflow:global_step/sec: 25.9081\n",
      "INFO:tensorflow:loss = 48.40058, step = 2501 (3.860 sec)\n",
      "INFO:tensorflow:global_step/sec: 25.542\n",
      "INFO:tensorflow:loss = 48.42044, step = 2601 (3.915 sec)\n",
      "INFO:tensorflow:global_step/sec: 25.6192\n",
      "INFO:tensorflow:loss = 45.420776, step = 2701 (3.909 sec)\n",
      "INFO:tensorflow:global_step/sec: 25.6419\n",
      "INFO:tensorflow:loss = 46.799385, step = 2801 (3.896 sec)\n",
      "INFO:tensorflow:global_step/sec: 25.5067\n",
      "INFO:tensorflow:loss = 56.557823, step = 2901 (3.919 sec)\n",
      "INFO:tensorflow:global_step/sec: 25.8551\n",
      "INFO:tensorflow:loss = 45.562675, step = 3001 (3.868 sec)\n",
      "INFO:tensorflow:Saving checkpoints for 3069 into trained/cnn/model.ckpt.\n",
      "INFO:tensorflow:Calling model_fn.\n",
      "INFO:tensorflow:Done calling model_fn.\n",
      "INFO:tensorflow:Starting evaluation at 2019-07-16T07:18:20Z\n",
      "INFO:tensorflow:Graph was finalized.\n",
      "INFO:tensorflow:Restoring parameters from trained/cnn/model.ckpt-3069\n",
      "INFO:tensorflow:Running local_init_op.\n",
      "INFO:tensorflow:Done running local_init_op.\n",
      "INFO:tensorflow:Finished evaluation at 2019-07-16-07:18:21\n",
      "INFO:tensorflow:Saving dict for global step 3069: MAE = 5.2188034, RMSE = 6.97311, global_step = 3069, loss = 48.58748\n",
      "INFO:tensorflow:Saving 'checkpoint_path' summary for global step 3069: trained/cnn/model.ckpt-3069\n",
      "INFO:tensorflow:Calling model_fn.\n",
      "INFO:tensorflow:Done calling model_fn.\n",
      "INFO:tensorflow:Signatures INCLUDED in export for Regress: None\n",
      "INFO:tensorflow:Signatures INCLUDED in export for Train: None\n",
      "INFO:tensorflow:Signatures INCLUDED in export for Predict: ['predictions', 'serving_default']\n",
      "INFO:tensorflow:Signatures INCLUDED in export for Classify: None\n",
      "INFO:tensorflow:Signatures INCLUDED in export for Eval: None\n",
      "INFO:tensorflow:Restoring parameters from trained/cnn/model.ckpt-3069\n",
      "INFO:tensorflow:Assets added to graph.\n",
      "INFO:tensorflow:No assets to write.\n",
      "INFO:tensorflow:SavedModel written to: trained/cnn/export/exporter/temp-b'1563261501'/saved_model.pb\n",
      "INFO:tensorflow:global_step/sec: 19.6775\n",
      "INFO:tensorflow:loss = 50.42698, step = 3101 (5.082 sec)\n",
      "INFO:tensorflow:global_step/sec: 25.7982\n",
      "INFO:tensorflow:loss = 49.922203, step = 3201 (3.876 sec)\n",
      "INFO:tensorflow:global_step/sec: 25.8401\n",
      "INFO:tensorflow:loss = 50.438835, step = 3301 (3.870 sec)\n",
      "INFO:tensorflow:global_step/sec: 25.6463\n",
      "INFO:tensorflow:loss = 45.72875, step = 3401 (3.899 sec)\n",
      "INFO:tensorflow:global_step/sec: 25.6586\n",
      "INFO:tensorflow:loss = 51.7819, step = 3501 (3.898 sec)\n",
      "INFO:tensorflow:global_step/sec: 25.765\n",
      "INFO:tensorflow:loss = 53.251984, step = 3601 (3.881 sec)\n",
      "INFO:tensorflow:global_step/sec: 26.2089\n",
      "INFO:tensorflow:loss = 49.150265, step = 3701 (3.815 sec)\n",
      "INFO:tensorflow:global_step/sec: 25.8932\n",
      "INFO:tensorflow:loss = 49.756287, step = 3801 (3.862 sec)\n",
      "INFO:tensorflow:global_step/sec: 25.765\n",
      "INFO:tensorflow:loss = 50.518456, step = 3901 (3.882 sec)\n",
      "INFO:tensorflow:Saving checkpoints for 4000 into trained/cnn/model.ckpt.\n",
      "INFO:tensorflow:Skip the current checkpoint eval due to throttle secs (60 secs).\n",
      "INFO:tensorflow:Calling model_fn.\n",
      "INFO:tensorflow:Done calling model_fn.\n",
      "INFO:tensorflow:Starting evaluation at 2019-07-16T07:18:57Z\n",
      "INFO:tensorflow:Graph was finalized.\n",
      "INFO:tensorflow:Restoring parameters from trained/cnn/model.ckpt-4000\n",
      "INFO:tensorflow:Running local_init_op.\n",
      "INFO:tensorflow:Done running local_init_op.\n",
      "INFO:tensorflow:Finished evaluation at 2019-07-16-07:18:58\n",
      "INFO:tensorflow:Saving dict for global step 4000: MAE = 5.1657043, RMSE = 6.90184, global_step = 4000, loss = 47.59643\n",
      "INFO:tensorflow:Saving 'checkpoint_path' summary for global step 4000: trained/cnn/model.ckpt-4000\n",
      "INFO:tensorflow:Calling model_fn.\n",
      "INFO:tensorflow:Done calling model_fn.\n",
      "INFO:tensorflow:Signatures INCLUDED in export for Regress: None\n",
      "INFO:tensorflow:Signatures INCLUDED in export for Train: None\n",
      "INFO:tensorflow:Signatures INCLUDED in export for Predict: ['predictions', 'serving_default']\n",
      "INFO:tensorflow:Signatures INCLUDED in export for Classify: None\n",
      "INFO:tensorflow:Signatures INCLUDED in export for Eval: None\n",
      "INFO:tensorflow:Restoring parameters from trained/cnn/model.ckpt-4000\n",
      "INFO:tensorflow:Assets added to graph.\n",
      "INFO:tensorflow:No assets to write.\n",
      "INFO:tensorflow:SavedModel written to: trained/cnn/export/exporter/temp-b'1563261538'/saved_model.pb\n",
      "INFO:tensorflow:Loss for final step: 48.246906.\n"
     ]
    }
   ],
   "source": [
    "# train a CNN model\n",
    "model.train_and_evaluate(out_dir_str, hparams)"
   ]
  },
  {
   "cell_type": "markdown",
   "metadata": {},
   "source": [
    "## Load CNN trained model for prediction"
   ]
  },
  {
   "cell_type": "code",
   "execution_count": 9,
   "metadata": {},
   "outputs": [
    {
     "name": "stdout",
     "output_type": "stream",
     "text": [
      "INFO:tensorflow:Restoring parameters from trained/cnn/export/exporter/1563261538/variables/variables\n"
     ]
    },
    {
     "data": {
      "text/plain": [
       "<matplotlib.axes._subplots.AxesSubplot at 0x7f9a2e34cc18>"
      ]
     },
     "execution_count": 9,
     "metadata": {},
     "output_type": "execute_result"
    },
    {
     "data": {
      "image/png": "[encoded data removed]",
      "text/plain": [
       "<Figure size 432x288 with 1 Axes>"
      ]
     },
     "metadata": {
      "needs_background": "light"
     },
     "output_type": "display_data"
    }
   ],
   "source": [
    "SAVEDMODEL = \"trained/cnn/export/exporter/\" + \"1563261538\"\n",
    "predict_cnn = get_prediction(tf.contrib.predictor.from_saved_model(SAVEDMODEL))\n",
    "data = pd.DataFrame({'Actual':actual , 'Predict Linear':predict_linear, 'Predict DNN': predict_dnn, 'Predict CNN': predict_cnn}) \n",
    "sns.lineplot(data=data)"
   ]
  },
  {
   "cell_type": "markdown",
   "metadata": {},
   "source": [
    "## Train a simple RNN model"
   ]
  },
  {
   "cell_type": "code",
   "execution_count": 23,
   "metadata": {},
   "outputs": [],
   "source": [
    "# setup parameters\n",
    "my_model = \"rnn\"\n",
    "out_dir_str = \"trained/{}\".format(my_model)\n",
    "hparams['model'] = my_model\n",
    "hparams['learning_rate'] = 0.05"
   ]
  },
  {
   "cell_type": "code",
   "execution_count": 24,
   "metadata": {},
   "outputs": [],
   "source": [
    "%%bash\n",
    "OUTDIR=trained/rnn\n",
    "rm -rf $OUTDIR"
   ]
  },
  {
   "cell_type": "code",
   "execution_count": 25,
   "metadata": {},
   "outputs": [
    {
     "name": "stdout",
     "output_type": "stream",
     "text": [
      "INFO:tensorflow:Using config: {'_save_summary_steps': 100, '_train_distribute': None, '_save_checkpoints_secs': 60, '_tf_random_seed': None, '_service': None, '_model_dir': 'trained/rnn', '_task_id': 0, '_task_type': 'worker', '_keep_checkpoint_max': 5, '_save_checkpoints_steps': None, '_protocol': None, '_keep_checkpoint_every_n_hours': 10000, '_cluster_spec': <tensorflow.python.training.server_lib.ClusterSpec object at 0x7fd3ac4d5c18>, '_is_chief': True, '_device_fn': None, '_master': '', '_session_config': allow_soft_placement: true\n",
      "graph_options {\n",
      "  rewrite_options {\n",
      "    meta_optimizer_iterations: ONE\n",
      "  }\n",
      "}\n",
      ", '_experimental_distribute': None, '_log_step_count_steps': 100, '_global_id_in_cluster': 0, '_eval_distribute': None, '_evaluation_master': '', '_num_worker_replicas': 1, '_num_ps_replicas': 0}\n",
      "INFO:tensorflow:Not using Distribute Coordinator.\n",
      "INFO:tensorflow:Running training and evaluation locally (non-distributed).\n",
      "INFO:tensorflow:Start train and evaluate loop. The evaluate will happen after every checkpoint. Checkpoint frequency is determined based on RunConfig arguments: save_checkpoints_steps None or save_checkpoints_secs 60.\n",
      "INFO:tensorflow:Calling model_fn.\n",
      "INFO:tensorflow:Done calling model_fn.\n",
      "INFO:tensorflow:Create CheckpointSaverHook.\n",
      "INFO:tensorflow:Graph was finalized.\n",
      "INFO:tensorflow:Running local_init_op.\n",
      "INFO:tensorflow:Done running local_init_op.\n",
      "INFO:tensorflow:Saving checkpoints for 0 into trained/rnn/model.ckpt.\n",
      "INFO:tensorflow:loss = 2706.3054, step = 1\n",
      "INFO:tensorflow:global_step/sec: 23.1915\n",
      "INFO:tensorflow:loss = 144.99207, step = 101 (4.314 sec)\n",
      "INFO:tensorflow:global_step/sec: 25.0429\n",
      "INFO:tensorflow:loss = 102.540634, step = 201 (3.992 sec)\n",
      "INFO:tensorflow:global_step/sec: 25.3075\n",
      "INFO:tensorflow:loss = 75.153656, step = 301 (3.952 sec)\n",
      "INFO:tensorflow:global_step/sec: 25.0739\n",
      "INFO:tensorflow:loss = 69.07172, step = 401 (3.988 sec)\n",
      "INFO:tensorflow:global_step/sec: 25.1916\n",
      "INFO:tensorflow:loss = 70.013664, step = 501 (3.969 sec)\n",
      "INFO:tensorflow:global_step/sec: 25.18\n",
      "INFO:tensorflow:loss = 66.153206, step = 601 (3.972 sec)\n",
      "INFO:tensorflow:global_step/sec: 25.2349\n",
      "INFO:tensorflow:loss = 62.507652, step = 701 (3.963 sec)\n",
      "INFO:tensorflow:global_step/sec: 24.9327\n",
      "INFO:tensorflow:loss = 65.262634, step = 801 (4.010 sec)\n",
      "INFO:tensorflow:global_step/sec: 25.0764\n",
      "INFO:tensorflow:loss = 68.10836, step = 901 (3.988 sec)\n",
      "INFO:tensorflow:global_step/sec: 25.0318\n",
      "INFO:tensorflow:loss = 63.49713, step = 1001 (3.995 sec)\n",
      "INFO:tensorflow:global_step/sec: 24.8974\n",
      "INFO:tensorflow:loss = 69.98893, step = 1101 (4.017 sec)\n",
      "INFO:tensorflow:global_step/sec: 25.1733\n",
      "INFO:tensorflow:loss = 66.44043, step = 1201 (3.972 sec)\n",
      "INFO:tensorflow:global_step/sec: 25.1728\n",
      "INFO:tensorflow:loss = 63.98629, step = 1301 (3.972 sec)\n",
      "INFO:tensorflow:global_step/sec: 25.0657\n",
      "INFO:tensorflow:loss = 72.4722, step = 1401 (3.990 sec)\n",
      "INFO:tensorflow:Saving checkpoints for 1485 into trained/rnn/model.ckpt.\n",
      "INFO:tensorflow:Calling model_fn.\n",
      "INFO:tensorflow:Done calling model_fn.\n",
      "INFO:tensorflow:Starting evaluation at 2019-07-16T07:58:31Z\n",
      "INFO:tensorflow:Graph was finalized.\n",
      "INFO:tensorflow:Restoring parameters from trained/rnn/model.ckpt-1485\n",
      "INFO:tensorflow:Running local_init_op.\n",
      "INFO:tensorflow:Done running local_init_op.\n",
      "INFO:tensorflow:Finished evaluation at 2019-07-16-07:58:31\n",
      "INFO:tensorflow:Saving dict for global step 1485: MAE = 6.091576, RMSE = 8.08225, global_step = 1485, loss = 65.33602\n",
      "INFO:tensorflow:Saving 'checkpoint_path' summary for global step 1485: trained/rnn/model.ckpt-1485\n",
      "INFO:tensorflow:Calling model_fn.\n",
      "INFO:tensorflow:Done calling model_fn.\n",
      "INFO:tensorflow:Signatures INCLUDED in export for Regress: None\n",
      "INFO:tensorflow:Signatures INCLUDED in export for Train: None\n",
      "INFO:tensorflow:Signatures INCLUDED in export for Predict: ['serving_default', 'predictions']\n",
      "INFO:tensorflow:Signatures INCLUDED in export for Eval: None\n",
      "INFO:tensorflow:Signatures INCLUDED in export for Classify: None\n",
      "INFO:tensorflow:Restoring parameters from trained/rnn/model.ckpt-1485\n",
      "INFO:tensorflow:Assets added to graph.\n",
      "INFO:tensorflow:No assets to write.\n",
      "INFO:tensorflow:SavedModel written to: trained/rnn/export/exporter/temp-b'1563263911'/saved_model.pb\n",
      "INFO:tensorflow:global_step/sec: 18.569\n",
      "INFO:tensorflow:loss = 68.44724, step = 1501 (5.385 sec)\n",
      "INFO:tensorflow:global_step/sec: 25.2071\n",
      "INFO:tensorflow:loss = 63.68866, step = 1601 (3.967 sec)\n",
      "INFO:tensorflow:global_step/sec: 25.2026\n",
      "INFO:tensorflow:loss = 61.37887, step = 1701 (3.968 sec)\n",
      "INFO:tensorflow:global_step/sec: 25.1119\n",
      "INFO:tensorflow:loss = 65.05581, step = 1801 (3.982 sec)\n",
      "INFO:tensorflow:global_step/sec: 25.1609\n",
      "INFO:tensorflow:loss = 66.66012, step = 1901 (3.975 sec)\n",
      "INFO:tensorflow:Saving checkpoints for 2000 into trained/rnn/model.ckpt.\n",
      "INFO:tensorflow:Skip the current checkpoint eval due to throttle secs (60 secs).\n",
      "INFO:tensorflow:Calling model_fn.\n",
      "INFO:tensorflow:Done calling model_fn.\n",
      "INFO:tensorflow:Starting evaluation at 2019-07-16T07:58:52Z\n",
      "INFO:tensorflow:Graph was finalized.\n",
      "INFO:tensorflow:Restoring parameters from trained/rnn/model.ckpt-2000\n",
      "INFO:tensorflow:Running local_init_op.\n",
      "INFO:tensorflow:Done running local_init_op.\n",
      "INFO:tensorflow:Finished evaluation at 2019-07-16-07:58:53\n",
      "INFO:tensorflow:Saving dict for global step 2000: MAE = 6.285038, RMSE = 8.2036495, global_step = 2000, loss = 67.34619\n",
      "INFO:tensorflow:Saving 'checkpoint_path' summary for global step 2000: trained/rnn/model.ckpt-2000\n",
      "INFO:tensorflow:Calling model_fn.\n",
      "INFO:tensorflow:Done calling model_fn.\n",
      "INFO:tensorflow:Signatures INCLUDED in export for Regress: None\n",
      "INFO:tensorflow:Signatures INCLUDED in export for Train: None\n",
      "INFO:tensorflow:Signatures INCLUDED in export for Predict: ['serving_default', 'predictions']\n",
      "INFO:tensorflow:Signatures INCLUDED in export for Eval: None\n",
      "INFO:tensorflow:Signatures INCLUDED in export for Classify: None\n",
      "INFO:tensorflow:Restoring parameters from trained/rnn/model.ckpt-2000\n",
      "INFO:tensorflow:Assets added to graph.\n",
      "INFO:tensorflow:No assets to write.\n",
      "INFO:tensorflow:SavedModel written to: trained/rnn/export/exporter/temp-b'1563263933'/saved_model.pb\n",
      "INFO:tensorflow:Loss for final step: 60.46566.\n"
     ]
    }
   ],
   "source": [
    "# train a RNN model\n",
    "model.train_and_evaluate(out_dir_str, hparams)"
   ]
  },
  {
   "cell_type": "markdown",
   "metadata": {},
   "source": [
    "## Load RNN trained model for prediction"
   ]
  },
  {
   "cell_type": "code",
   "execution_count": 10,
   "metadata": {},
   "outputs": [
    {
     "name": "stdout",
     "output_type": "stream",
     "text": [
      "INFO:tensorflow:Restoring parameters from trained/rnn/export/exporter/1563263933/variables/variables\n"
     ]
    },
    {
     "data": {
      "text/plain": [
       "<matplotlib.axes._subplots.AxesSubplot at 0x7f9a67bf4358>"
      ]
     },
     "execution_count": 10,
     "metadata": {},
     "output_type": "execute_result"
    },
    {
     "data": {
      "image/png": "[encoded data removed]",
      "text/plain": [
       "<Figure size 432x288 with 1 Axes>"
      ]
     },
     "metadata": {
      "needs_background": "light"
     },
     "output_type": "display_data"
    }
   ],
   "source": [
    "SAVEDMODEL = \"trained/rnn/export/exporter/\" + \"1563263933\"\n",
    "predict_rnn = get_prediction(tf.contrib.predictor.from_saved_model(SAVEDMODEL))\n",
    "data = pd.DataFrame({'Actual':actual , \n",
    "                     'Predict Linear':predict_linear, \n",
    "                     'Predict DNN': predict_dnn, \n",
    "                     'Predict CNN': predict_cnn, \n",
    "                     'Predict RNN': predict_rnn}) \n",
    "sns.lineplot(data=data)"
   ]
  },
  {
   "cell_type": "markdown",
   "metadata": {},
   "source": [
    "## Train a simple LSTM model"
   ]
  },
  {
   "cell_type": "code",
   "execution_count": 2,
   "metadata": {},
   "outputs": [],
   "source": [
    "# setup parameters\n",
    "my_model = \"lstm\"\n",
    "out_dir_str = \"trained/{}\".format(my_model)\n",
    "hparams['model'] = my_model\n",
    "hparams['learning_rate'] = 0.05"
   ]
  },
  {
   "cell_type": "code",
   "execution_count": 3,
   "metadata": {},
   "outputs": [],
   "source": [
    "%%bash\n",
    "OUTDIR=trained/lstm\n",
    "rm -rf $OUTDIR"
   ]
  },
  {
   "cell_type": "code",
   "execution_count": 4,
   "metadata": {},
   "outputs": [
    {
     "name": "stdout",
     "output_type": "stream",
     "text": [
      "INFO:tensorflow:Using config: {'_experimental_distribute': None, '_protocol': None, '_train_distribute': None, '_cluster_spec': <tensorflow.python.training.server_lib.ClusterSpec object at 0x7f9a9a777710>, '_master': '', '_task_type': 'worker', '_log_step_count_steps': 100, '_save_summary_steps': 100, '_keep_checkpoint_every_n_hours': 10000, '_num_worker_replicas': 1, '_session_config': allow_soft_placement: true\n",
      "graph_options {\n",
      "  rewrite_options {\n",
      "    meta_optimizer_iterations: ONE\n",
      "  }\n",
      "}\n",
      ", '_tf_random_seed': None, '_global_id_in_cluster': 0, '_task_id': 0, '_save_checkpoints_steps': None, '_save_checkpoints_secs': 60, '_device_fn': None, '_num_ps_replicas': 0, '_keep_checkpoint_max': 5, '_evaluation_master': '', '_is_chief': True, '_eval_distribute': None, '_service': None, '_model_dir': 'trained/lstm'}\n",
      "INFO:tensorflow:Not using Distribute Coordinator.\n",
      "INFO:tensorflow:Running training and evaluation locally (non-distributed).\n",
      "INFO:tensorflow:Start train and evaluate loop. The evaluate will happen after every checkpoint. Checkpoint frequency is determined based on RunConfig arguments: save_checkpoints_steps None or save_checkpoints_secs 60.\n",
      "WARNING:tensorflow:From /home/jupyter/.local/lib/python3.5/site-packages/tensorflow/python/framework/op_def_library.py:263: colocate_with (from tensorflow.python.framework.ops) is deprecated and will be removed in a future version.\n",
      "Instructions for updating:\n",
      "Colocations handled automatically by placer.\n",
      "INFO:tensorflow:Calling model_fn.\n",
      "WARNING:tensorflow:From /home/jupyter/asl_project/model/model.py:83: BasicLSTMCell.__init__ (from tensorflow.python.ops.rnn_cell_impl) is deprecated and will be removed in a future version.\n",
      "Instructions for updating:\n",
      "This class is equivalent as tf.keras.layers.LSTMCell, and will be replaced by that in Tensorflow 2.0.\n",
      "WARNING:tensorflow:From /home/jupyter/asl_project/model/model.py:84: dynamic_rnn (from tensorflow.python.ops.rnn) is deprecated and will be removed in a future version.\n",
      "Instructions for updating:\n",
      "Please use `keras.layers.RNN(cell)`, which is equivalent to this API\n",
      "WARNING:tensorflow:From /home/jupyter/asl_project/model/model.py:87: dense (from tensorflow.python.layers.core) is deprecated and will be removed in a future version.\n",
      "Instructions for updating:\n",
      "Use keras.layers.dense instead.\n",
      "WARNING:tensorflow:From /home/jupyter/.local/lib/python3.5/site-packages/tensorflow/python/ops/losses/losses_impl.py:667: to_float (from tensorflow.python.ops.math_ops) is deprecated and will be removed in a future version.\n",
      "Instructions for updating:\n",
      "Use tf.cast instead.\n",
      "\n",
      "WARNING: The TensorFlow contrib module will not be included in TensorFlow 2.0.\n",
      "For more information, please see:\n",
      "  * https://github.com/tensorflow/community/blob/master/rfcs/20180907-contrib-sunset.md\n",
      "  * https://github.com/tensorflow/addons\n",
      "If you depend on functionality not listed there, please file an issue.\n",
      "\n",
      "INFO:tensorflow:Done calling model_fn.\n",
      "INFO:tensorflow:Create CheckpointSaverHook.\n",
      "INFO:tensorflow:Graph was finalized.\n",
      "INFO:tensorflow:Running local_init_op.\n",
      "INFO:tensorflow:Done running local_init_op.\n",
      "INFO:tensorflow:Saving checkpoints for 0 into trained/lstm/model.ckpt.\n",
      "INFO:tensorflow:loss = 2683.1558, step = 1\n",
      "INFO:tensorflow:global_step/sec: 23.8911\n",
      "INFO:tensorflow:loss = 84.13257, step = 101 (4.188 sec)\n",
      "INFO:tensorflow:global_step/sec: 24.6938\n",
      "INFO:tensorflow:loss = 60.56051, step = 201 (4.049 sec)\n",
      "INFO:tensorflow:global_step/sec: 24.683\n",
      "INFO:tensorflow:loss = 66.580666, step = 301 (4.051 sec)\n",
      "INFO:tensorflow:global_step/sec: 25.0188\n",
      "INFO:tensorflow:loss = 66.07334, step = 401 (3.997 sec)\n",
      "INFO:tensorflow:global_step/sec: 25.2862\n",
      "INFO:tensorflow:loss = 58.600525, step = 501 (3.955 sec)\n",
      "INFO:tensorflow:global_step/sec: 24.9101\n",
      "INFO:tensorflow:loss = 62.784718, step = 601 (4.014 sec)\n",
      "INFO:tensorflow:global_step/sec: 24.6152\n",
      "INFO:tensorflow:loss = 64.42641, step = 701 (4.062 sec)\n",
      "INFO:tensorflow:global_step/sec: 24.4853\n",
      "INFO:tensorflow:loss = 57.252586, step = 801 (4.084 sec)\n",
      "INFO:tensorflow:global_step/sec: 24.654\n",
      "INFO:tensorflow:loss = 60.30282, step = 901 (4.056 sec)\n",
      "INFO:tensorflow:global_step/sec: 25.1026\n",
      "INFO:tensorflow:loss = 57.031197, step = 1001 (3.984 sec)\n",
      "INFO:tensorflow:global_step/sec: 24.5575\n",
      "INFO:tensorflow:loss = 61.99018, step = 1101 (4.072 sec)\n",
      "INFO:tensorflow:global_step/sec: 23.8785\n",
      "INFO:tensorflow:loss = 57.876575, step = 1201 (4.187 sec)\n",
      "INFO:tensorflow:global_step/sec: 24.5192\n",
      "INFO:tensorflow:loss = 61.080578, step = 1301 (4.078 sec)\n",
      "INFO:tensorflow:global_step/sec: 24.4227\n",
      "INFO:tensorflow:loss = 53.35276, step = 1401 (4.095 sec)\n",
      "INFO:tensorflow:Saving checkpoints for 1467 into trained/lstm/model.ckpt.\n",
      "INFO:tensorflow:Calling model_fn.\n",
      "INFO:tensorflow:Done calling model_fn.\n",
      "INFO:tensorflow:Starting evaluation at 2019-07-16T08:15:12Z\n",
      "INFO:tensorflow:Graph was finalized.\n",
      "WARNING:tensorflow:From /home/jupyter/.local/lib/python3.5/site-packages/tensorflow/python/training/saver.py:1266: checkpoint_exists (from tensorflow.python.training.checkpoint_management) is deprecated and will be removed in a future version.\n",
      "Instructions for updating:\n",
      "Use standard file APIs to check for files with this prefix.\n",
      "INFO:tensorflow:Restoring parameters from trained/lstm/model.ckpt-1467\n",
      "INFO:tensorflow:Running local_init_op.\n",
      "INFO:tensorflow:Done running local_init_op.\n",
      "INFO:tensorflow:Finished evaluation at 2019-07-16-08:15:13\n",
      "INFO:tensorflow:Saving dict for global step 1467: MAE = 5.800308, RMSE = 7.489728, global_step = 1467, loss = 56.323383\n",
      "INFO:tensorflow:Saving 'checkpoint_path' summary for global step 1467: trained/lstm/model.ckpt-1467\n",
      "INFO:tensorflow:Calling model_fn.\n",
      "INFO:tensorflow:Done calling model_fn.\n",
      "WARNING:tensorflow:From /home/jupyter/.local/lib/python3.5/site-packages/tensorflow/python/saved_model/signature_def_utils_impl.py:205: build_tensor_info (from tensorflow.python.saved_model.utils_impl) is deprecated and will be removed in a future version.\n",
      "Instructions for updating:\n",
      "This function will only be available through the v1 compatibility library as tf.compat.v1.saved_model.utils.build_tensor_info or tf.compat.v1.saved_model.build_tensor_info.\n",
      "INFO:tensorflow:Signatures INCLUDED in export for Train: None\n",
      "INFO:tensorflow:Signatures INCLUDED in export for Predict: ['predictions', 'serving_default']\n",
      "INFO:tensorflow:Signatures INCLUDED in export for Classify: None\n",
      "INFO:tensorflow:Signatures INCLUDED in export for Regress: None\n",
      "INFO:tensorflow:Signatures INCLUDED in export for Eval: None\n",
      "INFO:tensorflow:Restoring parameters from trained/lstm/model.ckpt-1467\n",
      "INFO:tensorflow:Assets added to graph.\n",
      "INFO:tensorflow:No assets to write.\n",
      "INFO:tensorflow:SavedModel written to: trained/lstm/export/exporter/temp-b'1563264913'/saved_model.pb\n",
      "INFO:tensorflow:global_step/sec: 18.7219\n",
      "INFO:tensorflow:loss = 49.595146, step = 1501 (5.341 sec)\n",
      "INFO:tensorflow:global_step/sec: 24.9033\n",
      "INFO:tensorflow:loss = 50.336773, step = 1601 (4.016 sec)\n",
      "INFO:tensorflow:global_step/sec: 24.8431\n",
      "INFO:tensorflow:loss = 55.315125, step = 1701 (4.026 sec)\n",
      "INFO:tensorflow:global_step/sec: 25.2287\n",
      "INFO:tensorflow:loss = 58.07265, step = 1801 (3.964 sec)\n",
      "INFO:tensorflow:global_step/sec: 24.8669\n",
      "INFO:tensorflow:loss = 55.21278, step = 1901 (4.022 sec)\n",
      "INFO:tensorflow:Saving checkpoints for 2000 into trained/lstm/model.ckpt.\n",
      "INFO:tensorflow:Skip the current checkpoint eval due to throttle secs (60 secs).\n",
      "INFO:tensorflow:Calling model_fn.\n",
      "INFO:tensorflow:Done calling model_fn.\n",
      "INFO:tensorflow:Starting evaluation at 2019-07-16T08:15:35Z\n",
      "INFO:tensorflow:Graph was finalized.\n",
      "INFO:tensorflow:Restoring parameters from trained/lstm/model.ckpt-2000\n",
      "INFO:tensorflow:Running local_init_op.\n",
      "INFO:tensorflow:Done running local_init_op.\n",
      "INFO:tensorflow:Finished evaluation at 2019-07-16-08:15:36\n",
      "INFO:tensorflow:Saving dict for global step 2000: MAE = 5.5620646, RMSE = 7.291728, global_step = 2000, loss = 53.53131\n",
      "INFO:tensorflow:Saving 'checkpoint_path' summary for global step 2000: trained/lstm/model.ckpt-2000\n",
      "INFO:tensorflow:Calling model_fn.\n",
      "INFO:tensorflow:Done calling model_fn.\n",
      "INFO:tensorflow:Signatures INCLUDED in export for Train: None\n",
      "INFO:tensorflow:Signatures INCLUDED in export for Predict: ['predictions', 'serving_default']\n",
      "INFO:tensorflow:Signatures INCLUDED in export for Classify: None\n",
      "INFO:tensorflow:Signatures INCLUDED in export for Regress: None\n",
      "INFO:tensorflow:Signatures INCLUDED in export for Eval: None\n",
      "INFO:tensorflow:Restoring parameters from trained/lstm/model.ckpt-2000\n",
      "INFO:tensorflow:Assets added to graph.\n",
      "INFO:tensorflow:No assets to write.\n",
      "INFO:tensorflow:SavedModel written to: trained/lstm/export/exporter/temp-b'1563264936'/saved_model.pb\n",
      "INFO:tensorflow:Loss for final step: 54.05368.\n"
     ]
    }
   ],
   "source": [
    "# train a LSTM model\n",
    "model.train_and_evaluate(out_dir_str, hparams)"
   ]
  },
  {
   "cell_type": "markdown",
   "metadata": {},
   "source": [
    "## Load trained LSTM model for prediction"
   ]
  },
  {
   "cell_type": "code",
   "execution_count": null,
   "metadata": {},
   "outputs": [],
   "source": [
    "SAVEDMODEL = \"trained/lstm/export/exporter/\" + \"1563264936\"\n",
    "predict_lstm = get_prediction(tf.contrib.predictor.from_saved_model(SAVEDMODEL))\n",
    "data = pd.DataFrame({'Actual':actual , \n",
    "                     'Predict Linear':predict_linear, \n",
    "                     'Predict DNN': predict_dnn, \n",
    "                     'Predict CNN': predict_cnn, \n",
    "                     'Predict RNN': predict_rnn,\n",
    "                     'Predict LSTM': predict_lstm}) \n",
    "sns.lineplot(data=data)"
   ]
  }
 ],
 "metadata": {
  "kernelspec": {
   "display_name": "Python 3",
   "language": "python",
   "name": "python3"
  },
  "language_info": {
   "codemirror_mode": {
    "name": "ipython",
    "version": 3
   },
   "file_extension": ".py",
   "mimetype": "text/x-python",
   "name": "python",
   "nbconvert_exporter": "python",
   "pygments_lexer": "ipython3",
   "version": "3.5.3"
  }
 },
 "nbformat": 4,
 "nbformat_minor": 2
}
