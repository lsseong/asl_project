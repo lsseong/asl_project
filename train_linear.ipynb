{
 "cells": [
  {
   "cell_type": "markdown",
   "metadata": {},
   "source": [
    "## Energy forecast - Train a simple linear model"
   ]
  },
  {
   "cell_type": "markdown",
   "metadata": {},
   "source": [
    "## Import libraries"
   ]
  },
  {
   "cell_type": "code",
   "execution_count": 1,
   "metadata": {},
   "outputs": [],
   "source": [
    "import tensorflow as tf\n",
    "from model import model"
   ]
  },
  {
   "cell_type": "markdown",
   "metadata": {},
   "source": [
    "## Verify read_dataset method to read in training data"
   ]
  },
  {
   "cell_type": "code",
   "execution_count": 2,
   "metadata": {},
   "outputs": [
    {
     "name": "stdout",
     "output_type": "stream",
     "text": [
      "try_out_input_function: features shape = [[59.31 60.01 52.   52.   52.1  47.4  45.91 46.09]]\n",
      "try_out_input_function: labels shape = [[47.22 50.   53.5  56.44 56.69]]\n"
     ]
    }
   ],
   "source": [
    "seq_length = 8\n",
    "n_forward = 5\n",
    "\n",
    "TIME_SERIES_INPUT = \"prices\"\n",
    "\n",
    "with tf.Session() as sess:\n",
    "    fn = model.read_dataset(filename=\"data/train_{}_{}.csv\".format(seq_length, n_forward),\n",
    "                            mode=tf.estimator.ModeKeys.TRAIN,\n",
    "                            seq_length=seq_length,\n",
    "                            n_forward=n_forward,\n",
    "                            batch_size=1)\n",
    "\n",
    "    batch_features, batch_labels = fn()\n",
    "    features, labels = sess.run([batch_features, batch_labels])\n",
    "    print(\"try_out_input_function: features shape = {}\".format(features[TIME_SERIES_INPUT]))\n",
    "    print(\"try_out_input_function: labels shape = {}\".format(labels))"
   ]
  },
  {
   "cell_type": "markdown",
   "metadata": {},
   "source": [
    "## Setup parameters"
   ]
  },
  {
   "cell_type": "code",
   "execution_count": 3,
   "metadata": {},
   "outputs": [],
   "source": [
    "seq_length = 8\n",
    "n_forward = 5\n",
    "model = \"linear\"\n",
    "out_dir_str = \"trained/{}\".format(model)\n",
    "\n",
    "hparams = {}\n",
    "hparams['model'] = model\n",
    "hparams['train_data_path'] = \"data/train_{}_{}.csv\".format(seq_length, n_forward)\n",
    "hparams['eval_data_path'] = \"data/eval_{}_{}.csv\".format(seq_length, n_forward)\n",
    "hparams['seq_length'] = 8\n",
    "hparams['n_forward'] = 5\n",
    "hparams['learning_rate'] = 0.2\n",
    "hparams['train_steps'] = 100\n",
    "hparams['batch_size'] = 512\n",
    "hparams['eval_delay_secs'] = 1\n",
    "hparams['min_eval_frequency'] = 60"
   ]
  },
  {
   "cell_type": "markdown",
   "metadata": {},
   "source": [
    "## Remove output folder so we can re-train the model"
   ]
  },
  {
   "cell_type": "code",
   "execution_count": 4,
   "metadata": {},
   "outputs": [
    {
     "name": "stdout",
     "output_type": "stream",
     "text": [
      "Couldn't find program: 'bash'\n"
     ]
    }
   ],
   "source": [
    "%%bash\n",
    "OUTDIR=trained/linear\n",
    "rm -rf $OUTDIR"
   ]
  },
  {
   "cell_type": "markdown",
   "metadata": {},
   "source": [
    "## Train a linear model"
   ]
  },
  {
   "cell_type": "code",
   "execution_count": 5,
   "metadata": {},
   "outputs": [
    {
     "name": "stdout",
     "output_type": "stream",
     "text": [
      "INFO:tensorflow:Using config: {'_model_dir': 'trained/linear', '_tf_random_seed': None, '_save_summary_steps': 100, '_save_checkpoints_steps': None, '_save_checkpoints_secs': 60, '_session_config': allow_soft_placement: true\n",
      "graph_options {\n",
      "  rewrite_options {\n",
      "    meta_optimizer_iterations: ONE\n",
      "  }\n",
      "}\n",
      ", '_keep_checkpoint_max': 5, '_keep_checkpoint_every_n_hours': 10000, '_log_step_count_steps': 100, '_train_distribute': None, '_device_fn': None, '_protocol': None, '_eval_distribute': None, '_experimental_distribute': None, '_service': None, '_cluster_spec': <tensorflow.python.training.server_lib.ClusterSpec object at 0x000000FBB02BE860>, '_task_type': 'worker', '_task_id': 0, '_global_id_in_cluster': 0, '_master': '', '_evaluation_master': '', '_is_chief': True, '_num_ps_replicas': 0, '_num_worker_replicas': 1}\n",
      "INFO:tensorflow:Not using Distribute Coordinator.\n",
      "INFO:tensorflow:Running training and evaluation locally (non-distributed).\n",
      "INFO:tensorflow:Start train and evaluate loop. The evaluate will happen after every checkpoint. Checkpoint frequency is determined based on RunConfig arguments: save_checkpoints_steps None or save_checkpoints_secs 60.\n",
      "INFO:tensorflow:Skipping training since max_steps has already saved.\n"
     ]
    }
   ],
   "source": [
    "from model import model\n",
    "\n",
    "model.train_and_evaluate(out_dir_str, hparams)"
   ]
  },
  {
   "cell_type": "code",
   "execution_count": null,
   "metadata": {},
   "outputs": [],
   "source": []
  }
 ],
 "metadata": {
  "kernelspec": {
   "display_name": "Python 3",
   "language": "python",
   "name": "python3"
  },
  "language_info": {
   "codemirror_mode": {
    "name": "ipython",
    "version": 3
   },
   "file_extension": ".py",
   "mimetype": "text/x-python",
   "name": "python",
   "nbconvert_exporter": "python",
   "pygments_lexer": "ipython3",
   "version": "3.6.8"
  }
 },
 "nbformat": 4,
 "nbformat_minor": 2
}
