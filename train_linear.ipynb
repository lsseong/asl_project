{
 "cells": [
  {
   "cell_type": "markdown",
   "metadata": {},
   "source": [
    "## Energy forecast - Train simple models\n",
    "We first train a simple linear model by using 8 hours of prices to predict the movement in next 5 hours."
   ]
  },
  {
   "cell_type": "code",
   "execution_count": 36,
   "metadata": {},
   "outputs": [],
   "source": [
    "seq_length = 8\n",
    "n_forward = 5\n",
    "my_model = \"linear\""
   ]
  },
  {
   "cell_type": "markdown",
   "metadata": {},
   "source": [
    "## Import libraries"
   ]
  },
  {
   "cell_type": "code",
   "execution_count": 37,
   "metadata": {},
   "outputs": [],
   "source": [
    "import tensorflow as tf\n",
    "from model import model"
   ]
  },
  {
   "cell_type": "markdown",
   "metadata": {},
   "source": [
    "## Verify read_dataset method to read in training data"
   ]
  },
  {
   "cell_type": "code",
   "execution_count": 38,
   "metadata": {},
   "outputs": [
    {
     "name": "stdout",
     "output_type": "stream",
     "text": [
      "try_out_input_function: features shape = [[32.4  37.6  33.   33.85 33.35 39.3  36.22 32.4 ]]\n",
      "try_out_input_function: labels shape = [[30.6  30.4  30.75 33.85 31.6 ]]\n"
     ]
    }
   ],
   "source": [
    "TIME_SERIES_INPUT = \"prices\"\n",
    "\n",
    "with tf.Session() as sess:\n",
    "    fn = model.read_dataset(filename=\"data/train_{}_{}.csv\".format(seq_length, n_forward),\n",
    "                            mode=tf.estimator.ModeKeys.TRAIN,\n",
    "                            seq_length=seq_length,\n",
    "                            n_forward=n_forward,\n",
    "                            batch_size=1)\n",
    "\n",
    "    batch_features, batch_labels = fn()\n",
    "    features, labels = sess.run([batch_features, batch_labels])\n",
    "    print(\"try_out_input_function: features shape = {}\".format(features[TIME_SERIES_INPUT]))\n",
    "    print(\"try_out_input_function: labels shape = {}\".format(labels))"
   ]
  },
  {
   "cell_type": "markdown",
   "metadata": {},
   "source": [
    "## Setup parameters"
   ]
  },
  {
   "cell_type": "code",
   "execution_count": 39,
   "metadata": {},
   "outputs": [],
   "source": [
    "out_dir_str = \"trained/{}\".format(my_model)\n",
    "\n",
    "hparams = {}\n",
    "hparams['model'] = my_model\n",
    "hparams['train_data_path'] = \"data/train_{}_{}.csv\".format(seq_length, n_forward)\n",
    "hparams['eval_data_path'] = \"data/eval_{}_{}.csv\".format(seq_length, n_forward)\n",
    "hparams['seq_length'] = seq_length\n",
    "hparams['n_forward'] = n_forward\n",
    "hparams['learning_rate'] = 0.2\n",
    "hparams['train_steps'] = 2000\n",
    "hparams['batch_size'] = 512\n",
    "hparams['eval_delay_secs'] = 1\n",
    "hparams['min_eval_frequency'] = 60"
   ]
  },
  {
   "cell_type": "markdown",
   "metadata": {},
   "source": [
    "## Remove output folder so we can re-train the model"
   ]
  },
  {
   "cell_type": "code",
   "execution_count": 40,
   "metadata": {},
   "outputs": [],
   "source": [
    "%%bash\n",
    "OUTDIR=trained/linear\n",
    "rm -rf $OUTDIR"
   ]
  },
  {
   "cell_type": "markdown",
   "metadata": {},
   "source": [
    "## Train a linear model"
   ]
  },
  {
   "cell_type": "code",
   "execution_count": 41,
   "metadata": {},
   "outputs": [
    {
     "name": "stdout",
     "output_type": "stream",
     "text": [
      "INFO:tensorflow:Using config: {'_task_type': 'worker', '_experimental_distribute': None, '_is_chief': True, '_cluster_spec': <tensorflow.python.training.server_lib.ClusterSpec object at 0x7f7e846c7048>, '_task_id': 0, '_protocol': None, '_save_checkpoints_steps': None, '_save_summary_steps': 100, '_num_ps_replicas': 0, '_service': None, '_num_worker_replicas': 1, '_tf_random_seed': None, '_global_id_in_cluster': 0, '_keep_checkpoint_max': 5, '_train_distribute': None, '_evaluation_master': '', '_save_checkpoints_secs': 60, '_log_step_count_steps': 100, '_device_fn': None, '_eval_distribute': None, '_session_config': allow_soft_placement: true\n",
      "graph_options {\n",
      "  rewrite_options {\n",
      "    meta_optimizer_iterations: ONE\n",
      "  }\n",
      "}\n",
      ", '_model_dir': 'trained/linear', '_keep_checkpoint_every_n_hours': 10000, '_master': ''}\n",
      "INFO:tensorflow:Not using Distribute Coordinator.\n",
      "INFO:tensorflow:Running training and evaluation locally (non-distributed).\n",
      "INFO:tensorflow:Start train and evaluate loop. The evaluate will happen after every checkpoint. Checkpoint frequency is determined based on RunConfig arguments: save_checkpoints_steps None or save_checkpoints_secs 60.\n",
      "INFO:tensorflow:Calling model_fn.\n",
      "INFO:tensorflow:Done calling model_fn.\n",
      "INFO:tensorflow:Create CheckpointSaverHook.\n",
      "INFO:tensorflow:Graph was finalized.\n",
      "INFO:tensorflow:Running local_init_op.\n",
      "INFO:tensorflow:Done running local_init_op.\n",
      "INFO:tensorflow:Saving checkpoints for 0 into trained/linear/model.ckpt.\n",
      "INFO:tensorflow:loss = 6426.357, step = 1\n",
      "INFO:tensorflow:global_step/sec: 26.3126\n",
      "INFO:tensorflow:loss = 65.69415, step = 101 (3.802 sec)\n",
      "INFO:tensorflow:global_step/sec: 26.5421\n",
      "INFO:tensorflow:loss = 61.80781, step = 201 (3.768 sec)\n",
      "INFO:tensorflow:global_step/sec: 26.9726\n",
      "INFO:tensorflow:loss = 61.719788, step = 301 (3.707 sec)\n",
      "INFO:tensorflow:global_step/sec: 26.5025\n",
      "INFO:tensorflow:loss = 59.84923, step = 401 (3.773 sec)\n",
      "INFO:tensorflow:global_step/sec: 26.8156\n",
      "INFO:tensorflow:loss = 57.157875, step = 501 (3.732 sec)\n",
      "INFO:tensorflow:global_step/sec: 27.3054\n",
      "INFO:tensorflow:loss = 55.436565, step = 601 (3.659 sec)\n",
      "INFO:tensorflow:global_step/sec: 26.8954\n",
      "INFO:tensorflow:loss = 51.884468, step = 701 (3.719 sec)\n",
      "INFO:tensorflow:global_step/sec: 27.0772\n",
      "INFO:tensorflow:loss = 53.34416, step = 801 (3.693 sec)\n",
      "INFO:tensorflow:global_step/sec: 27.0303\n",
      "INFO:tensorflow:loss = 56.06476, step = 901 (3.699 sec)\n",
      "INFO:tensorflow:global_step/sec: 27.3539\n",
      "INFO:tensorflow:loss = 52.35615, step = 1001 (3.655 sec)\n",
      "INFO:tensorflow:global_step/sec: 27.6017\n",
      "INFO:tensorflow:loss = 52.171288, step = 1101 (3.623 sec)\n",
      "INFO:tensorflow:global_step/sec: 27.3551\n",
      "INFO:tensorflow:loss = 58.619366, step = 1201 (3.659 sec)\n",
      "INFO:tensorflow:global_step/sec: 27.3563\n",
      "INFO:tensorflow:loss = 49.404896, step = 1301 (3.652 sec)\n",
      "INFO:tensorflow:global_step/sec: 27.3011\n",
      "INFO:tensorflow:loss = 65.13371, step = 1401 (3.663 sec)\n",
      "INFO:tensorflow:global_step/sec: 27.635\n",
      "INFO:tensorflow:loss = 59.408653, step = 1501 (3.619 sec)\n",
      "INFO:tensorflow:global_step/sec: 27.3642\n",
      "INFO:tensorflow:loss = 56.530994, step = 1601 (3.654 sec)\n",
      "INFO:tensorflow:Saving checkpoints for 1615 into trained/linear/model.ckpt.\n",
      "INFO:tensorflow:Calling model_fn.\n",
      "INFO:tensorflow:Done calling model_fn.\n",
      "INFO:tensorflow:Starting evaluation at 2019-07-16T06:26:38Z\n",
      "INFO:tensorflow:Graph was finalized.\n",
      "INFO:tensorflow:Restoring parameters from trained/linear/model.ckpt-1615\n",
      "INFO:tensorflow:Running local_init_op.\n",
      "INFO:tensorflow:Done running local_init_op.\n",
      "INFO:tensorflow:Finished evaluation at 2019-07-16-06:26:38\n",
      "INFO:tensorflow:Saving dict for global step 1615: MAE = 5.657595, RMSE = 7.6905637, global_step = 1615, loss = 59.45027\n",
      "INFO:tensorflow:Saving 'checkpoint_path' summary for global step 1615: trained/linear/model.ckpt-1615\n",
      "INFO:tensorflow:Calling model_fn.\n",
      "INFO:tensorflow:Done calling model_fn.\n",
      "INFO:tensorflow:Signatures INCLUDED in export for Regress: None\n",
      "INFO:tensorflow:Signatures INCLUDED in export for Train: None\n",
      "INFO:tensorflow:Signatures INCLUDED in export for Classify: None\n",
      "INFO:tensorflow:Signatures INCLUDED in export for Eval: None\n",
      "INFO:tensorflow:Signatures INCLUDED in export for Predict: ['predictions', 'serving_default']\n",
      "INFO:tensorflow:Restoring parameters from trained/linear/model.ckpt-1615\n",
      "INFO:tensorflow:Assets added to graph.\n",
      "INFO:tensorflow:No assets to write.\n",
      "INFO:tensorflow:SavedModel written to: trained/linear/export/exporter/temp-b'1563258398'/saved_model.pb\n",
      "INFO:tensorflow:global_step/sec: 21.1818\n",
      "INFO:tensorflow:loss = 50.55585, step = 1701 (4.721 sec)\n",
      "INFO:tensorflow:global_step/sec: 27.7343\n",
      "INFO:tensorflow:loss = 52.228737, step = 1801 (3.606 sec)\n",
      "INFO:tensorflow:global_step/sec: 27.0838\n",
      "INFO:tensorflow:loss = 60.775597, step = 1901 (3.693 sec)\n",
      "INFO:tensorflow:Saving checkpoints for 2000 into trained/linear/model.ckpt.\n",
      "INFO:tensorflow:Skip the current checkpoint eval due to throttle secs (60 secs).\n",
      "INFO:tensorflow:Calling model_fn.\n",
      "INFO:tensorflow:Done calling model_fn.\n",
      "INFO:tensorflow:Starting evaluation at 2019-07-16T06:26:53Z\n",
      "INFO:tensorflow:Graph was finalized.\n",
      "INFO:tensorflow:Restoring parameters from trained/linear/model.ckpt-2000\n",
      "INFO:tensorflow:Running local_init_op.\n",
      "INFO:tensorflow:Done running local_init_op.\n",
      "INFO:tensorflow:Finished evaluation at 2019-07-16-06:26:53\n",
      "INFO:tensorflow:Saving dict for global step 2000: MAE = 5.7208023, RMSE = 7.611329, global_step = 2000, loss = 58.09907\n",
      "INFO:tensorflow:Saving 'checkpoint_path' summary for global step 2000: trained/linear/model.ckpt-2000\n",
      "INFO:tensorflow:Calling model_fn.\n",
      "INFO:tensorflow:Done calling model_fn.\n",
      "INFO:tensorflow:Signatures INCLUDED in export for Regress: None\n",
      "INFO:tensorflow:Signatures INCLUDED in export for Train: None\n",
      "INFO:tensorflow:Signatures INCLUDED in export for Classify: None\n",
      "INFO:tensorflow:Signatures INCLUDED in export for Eval: None\n",
      "INFO:tensorflow:Signatures INCLUDED in export for Predict: ['predictions', 'serving_default']\n",
      "INFO:tensorflow:Restoring parameters from trained/linear/model.ckpt-2000\n",
      "INFO:tensorflow:Assets added to graph.\n",
      "INFO:tensorflow:No assets to write.\n",
      "INFO:tensorflow:SavedModel written to: trained/linear/export/exporter/temp-b'1563258413'/saved_model.pb\n",
      "INFO:tensorflow:Loss for final step: 58.141956.\n"
     ]
    }
   ],
   "source": [
    "model.train_and_evaluate(out_dir_str, hparams)"
   ]
  },
  {
   "cell_type": "markdown",
   "metadata": {},
   "source": [
    "## Load trained model for prediction\n",
    "\n",
    "We use the following 8 data points to test the prediction from trained model:\n",
    "\n",
    "| Dates | Prices |\n",
    "|-------|:------:|\n",
    "|31/12/2015 11:00| 54 |\n",
    "|31/12/2015 12:00| 53.3 |\n",
    "|31/12/2015 13:00| 52.11 |\n",
    "|31/12/2015 14:00| 51.2 |\n",
    "|31/12/2015 15:00| 52.86 |\n",
    "|31/12/2015 16:00| 56.7 |\n",
    "|31/12/2015 17:00| 62.1 |\n",
    "|31/12/2015 18:00| 63.44 |\n",
    "\n",
    "Acutal subsequent prices to compare with predictions: \n",
    "\n",
    "| Dates | Prices |\n",
    "|-------|:------:|\n",
    "|31/12/2015 19:00| 63.29 |\n",
    "|31/12/2015 20:00| 62.1 |\n",
    "|31/12/2015 21:00| 56.7 |\n",
    "|31/12/2015 22:00| 50.95 |\n",
    "|31/12/2015 23:00| 48.55 |\n"
   ]
  },
  {
   "cell_type": "code",
   "execution_count": 42,
   "metadata": {},
   "outputs": [
    {
     "name": "stdout",
     "output_type": "stream",
     "text": [
      "INFO:tensorflow:Restoring parameters from trained/linear/export/exporter/1563258413/variables/variables\n"
     ]
    }
   ],
   "source": [
    "SAVEDMODEL = \"trained/linear/export/exporter/\" + \"1563258413\"\n",
    "predict_fn = tf.contrib.predictor.from_saved_model(SAVEDMODEL)"
   ]
  },
  {
   "cell_type": "code",
   "execution_count": 43,
   "metadata": {},
   "outputs": [
    {
     "name": "stdout",
     "output_type": "stream",
     "text": [
      "[63.946102 58.40284  60.23728  62.690014 57.09897 ]\n"
     ]
    }
   ],
   "source": [
    "import numpy as np\n",
    "import pandas as pd\n",
    "import seaborn as sns\n",
    "\n",
    "Yin = np.array([[54, 53.3, 52.11, 51.2, 52.86, 56.7, 62.1, 63.44]])\n",
    "r_linear = predict_fn({TIME_SERIES_INPUT: Yin})\n",
    "predict_linear = r_linear['predicted'].squeeze()\n",
    "print(predict_linear)"
   ]
  },
  {
   "cell_type": "code",
   "execution_count": 44,
   "metadata": {},
   "outputs": [
    {
     "data": {
      "text/plain": [
       "<matplotlib.axes._subplots.AxesSubplot at 0x7f7f290b09e8>"
      ]
     },
     "execution_count": 44,
     "metadata": {},
     "output_type": "execute_result"
    },
    {
     "data": {
      "image/png": "[encoded data removed]",
      "text/plain": [
       "<Figure size 432x288 with 1 Axes>"
      ]
     },
     "metadata": {
      "needs_background": "light"
     },
     "output_type": "display_data"
    }
   ],
   "source": [
    "actual = np.array([63.29, 62.1, 56.7, 50.95, 48.55])\n",
    "data = pd.DataFrame({'Actual':actual , 'Predict':predict_linear}) \n",
    "sns.lineplot(data=data)"
   ]
  },
  {
   "cell_type": "markdown",
   "metadata": {},
   "source": [
    "## Train a simple DNN model"
   ]
  },
  {
   "cell_type": "code",
   "execution_count": 45,
   "metadata": {},
   "outputs": [],
   "source": [
    "# setup parameters\n",
    "my_model = \"dnn\"\n",
    "out_dir_str = \"trained/{}\".format(my_model)\n",
    "hparams['model'] = my_model"
   ]
  },
  {
   "cell_type": "code",
   "execution_count": 46,
   "metadata": {},
   "outputs": [],
   "source": [
    "%%bash\n",
    "OUTDIR=trained/dnn\n",
    "rm -rf $OUTDIR"
   ]
  },
  {
   "cell_type": "code",
   "execution_count": 47,
   "metadata": {},
   "outputs": [
    {
     "name": "stdout",
     "output_type": "stream",
     "text": [
      "INFO:tensorflow:Using config: {'_task_type': 'worker', '_experimental_distribute': None, '_is_chief': True, '_cluster_spec': <tensorflow.python.training.server_lib.ClusterSpec object at 0x7f7e8509a438>, '_task_id': 0, '_protocol': None, '_save_checkpoints_steps': None, '_save_summary_steps': 100, '_num_ps_replicas': 0, '_service': None, '_num_worker_replicas': 1, '_tf_random_seed': None, '_global_id_in_cluster': 0, '_keep_checkpoint_max': 5, '_train_distribute': None, '_evaluation_master': '', '_save_checkpoints_secs': 60, '_log_step_count_steps': 100, '_device_fn': None, '_eval_distribute': None, '_session_config': allow_soft_placement: true\n",
      "graph_options {\n",
      "  rewrite_options {\n",
      "    meta_optimizer_iterations: ONE\n",
      "  }\n",
      "}\n",
      ", '_model_dir': 'trained/dnn', '_keep_checkpoint_every_n_hours': 10000, '_master': ''}\n",
      "INFO:tensorflow:Not using Distribute Coordinator.\n",
      "INFO:tensorflow:Running training and evaluation locally (non-distributed).\n",
      "INFO:tensorflow:Start train and evaluate loop. The evaluate will happen after every checkpoint. Checkpoint frequency is determined based on RunConfig arguments: save_checkpoints_steps None or save_checkpoints_secs 60.\n",
      "INFO:tensorflow:Calling model_fn.\n",
      "INFO:tensorflow:Done calling model_fn.\n",
      "INFO:tensorflow:Create CheckpointSaverHook.\n",
      "INFO:tensorflow:Graph was finalized.\n",
      "INFO:tensorflow:Running local_init_op.\n",
      "INFO:tensorflow:Done running local_init_op.\n",
      "INFO:tensorflow:Saving checkpoints for 0 into trained/dnn/model.ckpt.\n",
      "INFO:tensorflow:loss = 10382.373, step = 1\n",
      "INFO:tensorflow:global_step/sec: 26.9004\n",
      "INFO:tensorflow:loss = 75.509384, step = 101 (3.719 sec)\n",
      "INFO:tensorflow:global_step/sec: 26.9803\n",
      "INFO:tensorflow:loss = 66.41197, step = 201 (3.706 sec)\n",
      "INFO:tensorflow:global_step/sec: 27.6534\n",
      "INFO:tensorflow:loss = 54.110485, step = 301 (3.616 sec)\n",
      "INFO:tensorflow:global_step/sec: 27.576\n",
      "INFO:tensorflow:loss = 61.201954, step = 401 (3.626 sec)\n",
      "INFO:tensorflow:global_step/sec: 27.6041\n",
      "INFO:tensorflow:loss = 58.5577, step = 501 (3.622 sec)\n",
      "INFO:tensorflow:global_step/sec: 27.7029\n",
      "INFO:tensorflow:loss = 56.660515, step = 601 (3.610 sec)\n",
      "INFO:tensorflow:global_step/sec: 27.1874\n",
      "INFO:tensorflow:loss = 56.232777, step = 701 (3.678 sec)\n",
      "INFO:tensorflow:global_step/sec: 27.3366\n",
      "INFO:tensorflow:loss = 49.723377, step = 801 (3.658 sec)\n",
      "INFO:tensorflow:global_step/sec: 27.2247\n",
      "INFO:tensorflow:loss = 57.730713, step = 901 (3.677 sec)\n",
      "INFO:tensorflow:global_step/sec: 27.0102\n",
      "INFO:tensorflow:loss = 49.714714, step = 1001 (3.699 sec)\n",
      "INFO:tensorflow:global_step/sec: 27.2359\n",
      "INFO:tensorflow:loss = 56.02346, step = 1101 (3.671 sec)\n",
      "INFO:tensorflow:global_step/sec: 26.9815\n",
      "INFO:tensorflow:loss = 53.091473, step = 1201 (3.707 sec)\n",
      "INFO:tensorflow:global_step/sec: 26.5819\n",
      "INFO:tensorflow:loss = 56.00431, step = 1301 (3.761 sec)\n",
      "INFO:tensorflow:global_step/sec: 27.6345\n",
      "INFO:tensorflow:loss = 50.37198, step = 1401 (3.619 sec)\n",
      "INFO:tensorflow:global_step/sec: 27.7972\n",
      "INFO:tensorflow:loss = 57.47647, step = 1501 (3.598 sec)\n",
      "INFO:tensorflow:global_step/sec: 27.7495\n",
      "INFO:tensorflow:loss = 50.593796, step = 1601 (3.603 sec)\n",
      "INFO:tensorflow:Saving checkpoints for 1629 into trained/dnn/model.ckpt.\n",
      "INFO:tensorflow:Calling model_fn.\n",
      "INFO:tensorflow:Done calling model_fn.\n",
      "INFO:tensorflow:Starting evaluation at 2019-07-16T06:29:05Z\n",
      "INFO:tensorflow:Graph was finalized.\n",
      "INFO:tensorflow:Restoring parameters from trained/dnn/model.ckpt-1629\n",
      "INFO:tensorflow:Running local_init_op.\n",
      "INFO:tensorflow:Done running local_init_op.\n",
      "INFO:tensorflow:Finished evaluation at 2019-07-16-06:29:06\n",
      "INFO:tensorflow:Saving dict for global step 1629: MAE = 5.425519, RMSE = 7.2011075, global_step = 1629, loss = 51.965195\n",
      "INFO:tensorflow:Saving 'checkpoint_path' summary for global step 1629: trained/dnn/model.ckpt-1629\n",
      "INFO:tensorflow:Calling model_fn.\n",
      "INFO:tensorflow:Done calling model_fn.\n",
      "INFO:tensorflow:Signatures INCLUDED in export for Regress: None\n",
      "INFO:tensorflow:Signatures INCLUDED in export for Train: None\n",
      "INFO:tensorflow:Signatures INCLUDED in export for Classify: None\n",
      "INFO:tensorflow:Signatures INCLUDED in export for Eval: None\n",
      "INFO:tensorflow:Signatures INCLUDED in export for Predict: ['predictions', 'serving_default']\n",
      "INFO:tensorflow:Restoring parameters from trained/dnn/model.ckpt-1629\n",
      "INFO:tensorflow:Assets added to graph.\n",
      "INFO:tensorflow:No assets to write.\n",
      "INFO:tensorflow:SavedModel written to: trained/dnn/export/exporter/temp-b'1563258546'/saved_model.pb\n",
      "INFO:tensorflow:global_step/sec: 21.1705\n",
      "INFO:tensorflow:loss = 48.02269, step = 1701 (4.724 sec)\n",
      "INFO:tensorflow:global_step/sec: 27.47\n",
      "INFO:tensorflow:loss = 58.40464, step = 1801 (3.640 sec)\n",
      "INFO:tensorflow:global_step/sec: 27.9711\n",
      "INFO:tensorflow:loss = 53.619556, step = 1901 (3.578 sec)\n",
      "INFO:tensorflow:Saving checkpoints for 2000 into trained/dnn/model.ckpt.\n",
      "INFO:tensorflow:Skip the current checkpoint eval due to throttle secs (60 secs).\n",
      "INFO:tensorflow:Calling model_fn.\n",
      "INFO:tensorflow:Done calling model_fn.\n",
      "INFO:tensorflow:Starting evaluation at 2019-07-16T06:29:20Z\n",
      "INFO:tensorflow:Graph was finalized.\n",
      "INFO:tensorflow:Restoring parameters from trained/dnn/model.ckpt-2000\n",
      "INFO:tensorflow:Running local_init_op.\n",
      "INFO:tensorflow:Done running local_init_op.\n",
      "INFO:tensorflow:Finished evaluation at 2019-07-16-06:29:20\n",
      "INFO:tensorflow:Saving dict for global step 2000: MAE = 5.48433, RMSE = 7.2217894, global_step = 2000, loss = 52.20162\n",
      "INFO:tensorflow:Saving 'checkpoint_path' summary for global step 2000: trained/dnn/model.ckpt-2000\n",
      "INFO:tensorflow:Calling model_fn.\n",
      "INFO:tensorflow:Done calling model_fn.\n",
      "INFO:tensorflow:Signatures INCLUDED in export for Regress: None\n",
      "INFO:tensorflow:Signatures INCLUDED in export for Train: None\n",
      "INFO:tensorflow:Signatures INCLUDED in export for Classify: None\n",
      "INFO:tensorflow:Signatures INCLUDED in export for Eval: None\n",
      "INFO:tensorflow:Signatures INCLUDED in export for Predict: ['predictions', 'serving_default']\n",
      "INFO:tensorflow:Restoring parameters from trained/dnn/model.ckpt-2000\n",
      "INFO:tensorflow:Assets added to graph.\n",
      "INFO:tensorflow:No assets to write.\n",
      "INFO:tensorflow:SavedModel written to: trained/dnn/export/exporter/temp-b'1563258560'/saved_model.pb\n",
      "INFO:tensorflow:Loss for final step: 47.515045.\n"
     ]
    }
   ],
   "source": [
    "# train a DNN model\n",
    "model.train_and_evaluate(out_dir_str, hparams)"
   ]
  },
  {
   "cell_type": "markdown",
   "metadata": {},
   "source": [
    "## Load DNN trained model for prediction"
   ]
  },
  {
   "cell_type": "code",
   "execution_count": 33,
   "metadata": {},
   "outputs": [
    {
     "name": "stdout",
     "output_type": "stream",
     "text": [
      "INFO:tensorflow:Restoring parameters from trained/dnn/export/exporter/1563258026/variables/variables\n"
     ]
    }
   ],
   "source": [
    "SAVEDMODEL = \"trained/dnn/export/exporter/\" + \"1563258413\"\n",
    "predict_dnn_fn = tf.contrib.predictor.from_saved_model(SAVEDMODEL)"
   ]
  },
  {
   "cell_type": "code",
   "execution_count": 34,
   "metadata": {},
   "outputs": [
    {
     "name": "stdout",
     "output_type": "stream",
     "text": [
      "[61.854984 62.461502 58.107456 62.900494 55.41546 ]\n"
     ]
    }
   ],
   "source": [
    "r_dnn = predict_fn({TIME_SERIES_INPUT: Yin})\n",
    "predict_dnn = r_dnn['predicted'].squeeze()\n",
    "print(predict_dnn)"
   ]
  },
  {
   "cell_type": "code",
   "execution_count": 35,
   "metadata": {},
   "outputs": [
    {
     "data": {
      "text/plain": [
       "<matplotlib.axes._subplots.AxesSubplot at 0x7f7f29f9cc88>"
      ]
     },
     "execution_count": 35,
     "metadata": {},
     "output_type": "execute_result"
    },
    {
     "data": {
      "image/png": "[encoded data removed]",
      "text/plain": [
       "<Figure size 432x288 with 1 Axes>"
      ]
     },
     "metadata": {
      "needs_background": "light"
     },
     "output_type": "display_data"
    }
   ],
   "source": [
    "data = pd.DataFrame({'Actual':actual , 'Predict Linear':predict_linear, 'Predict DNN': predict_dnn}) \n",
    "sns.lineplot(data=data)"
   ]
  },
  {
   "cell_type": "code",
   "execution_count": null,
   "metadata": {},
   "outputs": [],
   "source": []
  }
 ],
 "metadata": {
  "kernelspec": {
   "display_name": "Python 3",
   "language": "python",
   "name": "python3"
  },
  "language_info": {
   "codemirror_mode": {
    "name": "ipython",
    "version": 3
   },
   "file_extension": ".py",
   "mimetype": "text/x-python",
   "name": "python",
   "nbconvert_exporter": "python",
   "pygments_lexer": "ipython3",
   "version": "3.5.3"
  }
 },
 "nbformat": 4,
 "nbformat_minor": 2
}
